{
  "cells": [
    {
      "cell_type": "code",
      "execution_count": 1,
      "metadata": {
        "id": "uUA-DakOqqs7"
      },
      "outputs": [],
      "source": [
        "import pandas as pd\n",
        "import numpy as np"
      ]
    },
    {
      "cell_type": "markdown",
      "metadata": {
        "id": "iZmcGjE7p91O"
      },
      "source": [
        "## Initialization"
      ]
    },
    {
      "cell_type": "markdown",
      "metadata": {
        "id": "UwU-9_Yfprs0"
      },
      "source": [
        "Create the base network as a matrix of costs, where a cost of NaN represents a non-adjacent node. The cost to the same node (diagonal of the matrix) is also listed as NaN for programming purposes. Typically, the diagonal should be listed as a 0, but this creates problems in the scripts for Djikstra's Algorithm and the Bellman-Ford Algorithm."
      ]
    },
    {
      "cell_type": "code",
      "execution_count": 2,
      "metadata": {
        "id": "_N6YQh19pGgE"
      },
      "outputs": [
        {
          "data": {
            "application/vnd.microsoft.datawrangler.viewer.v0+json": {
              "columns": [
                {
                  "name": "index",
                  "rawType": "object",
                  "type": "string"
                },
                {
                  "name": "Node 1",
                  "rawType": "float64",
                  "type": "float"
                },
                {
                  "name": "Node 2",
                  "rawType": "float64",
                  "type": "float"
                },
                {
                  "name": "Node 3",
                  "rawType": "float64",
                  "type": "float"
                },
                {
                  "name": "Node 4",
                  "rawType": "float64",
                  "type": "float"
                },
                {
                  "name": "Node 5",
                  "rawType": "float64",
                  "type": "float"
                },
                {
                  "name": "Node 6",
                  "rawType": "float64",
                  "type": "float"
                }
              ],
              "conversionMethod": "pd.DataFrame",
              "ref": "514a8af7-99f5-40b5-967a-f54c92a608cd",
              "rows": [
                [
                  "Node 1",
                  "0.0",
                  "5.0",
                  "1.0",
                  null,
                  null,
                  null
                ],
                [
                  "Node 2",
                  null,
                  "0.0",
                  "4.0",
                  "6.0",
                  null,
                  null
                ],
                [
                  "Node 3",
                  null,
                  null,
                  "0.0",
                  "7.0",
                  "2.0",
                  null
                ],
                [
                  "Node 4",
                  null,
                  null,
                  null,
                  "0.0",
                  null,
                  "2.0"
                ],
                [
                  "Node 5",
                  null,
                  "1.0",
                  null,
                  "3.0",
                  "0.0",
                  "8.0"
                ],
                [
                  "Node 6",
                  null,
                  null,
                  null,
                  null,
                  null,
                  "0.0"
                ]
              ],
              "shape": {
                "columns": 6,
                "rows": 6
              }
            },
            "text/html": [
              "<div>\n",
              "<style scoped>\n",
              "    .dataframe tbody tr th:only-of-type {\n",
              "        vertical-align: middle;\n",
              "    }\n",
              "\n",
              "    .dataframe tbody tr th {\n",
              "        vertical-align: top;\n",
              "    }\n",
              "\n",
              "    .dataframe thead th {\n",
              "        text-align: right;\n",
              "    }\n",
              "</style>\n",
              "<table border=\"1\" class=\"dataframe\">\n",
              "  <thead>\n",
              "    <tr style=\"text-align: right;\">\n",
              "      <th></th>\n",
              "      <th>Node 1</th>\n",
              "      <th>Node 2</th>\n",
              "      <th>Node 3</th>\n",
              "      <th>Node 4</th>\n",
              "      <th>Node 5</th>\n",
              "      <th>Node 6</th>\n",
              "    </tr>\n",
              "  </thead>\n",
              "  <tbody>\n",
              "    <tr>\n",
              "      <th>Node 1</th>\n",
              "      <td>0.0</td>\n",
              "      <td>5.0</td>\n",
              "      <td>1.0</td>\n",
              "      <td>NaN</td>\n",
              "      <td>NaN</td>\n",
              "      <td>NaN</td>\n",
              "    </tr>\n",
              "    <tr>\n",
              "      <th>Node 2</th>\n",
              "      <td>NaN</td>\n",
              "      <td>0.0</td>\n",
              "      <td>4.0</td>\n",
              "      <td>6.0</td>\n",
              "      <td>NaN</td>\n",
              "      <td>NaN</td>\n",
              "    </tr>\n",
              "    <tr>\n",
              "      <th>Node 3</th>\n",
              "      <td>NaN</td>\n",
              "      <td>NaN</td>\n",
              "      <td>0.0</td>\n",
              "      <td>7.0</td>\n",
              "      <td>2.0</td>\n",
              "      <td>NaN</td>\n",
              "    </tr>\n",
              "    <tr>\n",
              "      <th>Node 4</th>\n",
              "      <td>NaN</td>\n",
              "      <td>NaN</td>\n",
              "      <td>NaN</td>\n",
              "      <td>0.0</td>\n",
              "      <td>NaN</td>\n",
              "      <td>2.0</td>\n",
              "    </tr>\n",
              "    <tr>\n",
              "      <th>Node 5</th>\n",
              "      <td>NaN</td>\n",
              "      <td>1.0</td>\n",
              "      <td>NaN</td>\n",
              "      <td>3.0</td>\n",
              "      <td>0.0</td>\n",
              "      <td>8.0</td>\n",
              "    </tr>\n",
              "    <tr>\n",
              "      <th>Node 6</th>\n",
              "      <td>NaN</td>\n",
              "      <td>NaN</td>\n",
              "      <td>NaN</td>\n",
              "      <td>NaN</td>\n",
              "      <td>NaN</td>\n",
              "      <td>0.0</td>\n",
              "    </tr>\n",
              "  </tbody>\n",
              "</table>\n",
              "</div>"
            ],
            "text/plain": [
              "        Node 1  Node 2  Node 3  Node 4  Node 5  Node 6\n",
              "Node 1     0.0     5.0     1.0     NaN     NaN     NaN\n",
              "Node 2     NaN     0.0     4.0     6.0     NaN     NaN\n",
              "Node 3     NaN     NaN     0.0     7.0     2.0     NaN\n",
              "Node 4     NaN     NaN     NaN     0.0     NaN     2.0\n",
              "Node 5     NaN     1.0     NaN     3.0     0.0     8.0\n",
              "Node 6     NaN     NaN     NaN     NaN     NaN     0.0"
            ]
          },
          "metadata": {},
          "output_type": "display_data"
        }
      ],
      "source": [
        "# Manually initialized adjacency matrix\n",
        "network = pd.DataFrame(\n",
        "    [[0,5,1,np.nan,np.nan,np.nan],\n",
        "     [np.nan,0,4,6,np.nan,np.nan],\n",
        "     [np.nan,np.nan,0,7,2,np.nan],\n",
        "     [np.nan,np.nan,np.nan,0,np.nan,2],\n",
        "     [np.nan,1,np.nan,3,0,8],\n",
        "     [np.nan,np.nan,np.nan,np.nan,np.nan,0]])\n",
        "\n",
        "network.index = ['Node 1', 'Node 2', 'Node 3', 'Node 4', 'Node 5', 'Node 6']\n",
        "network.columns = network.index\n",
        "\n",
        "display(network)"
      ]
    },
    {
      "cell_type": "markdown",
      "metadata": {},
      "source": [
        "## Djikstra's Algorithm"
      ]
    },
    {
      "cell_type": "code",
      "execution_count": 3,
      "metadata": {
        "id": "-j-9SA98sHvt"
      },
      "outputs": [],
      "source": [
        "# Initialize the temporary labels, permanent labels, and optimal policy vectors\n",
        "permanent = pd.Series([0,np.nan,np.nan,np.nan,np.nan,np.nan])\n",
        "temp = pd.Series([np.nan,np.nan,np.nan,np.nan,np.nan,np.nan])\n",
        "\n",
        "temp.index = permanent.index = network.index"
      ]
    },
    {
      "cell_type": "code",
      "execution_count": 4,
      "metadata": {
        "colab": {
          "base_uri": "https://localhost:8080/"
        },
        "id": "n7BrpHsoyS71",
        "outputId": "7cfdd919-5ab2-4aba-bb17-9a400119aa08"
      },
      "outputs": [
        {
          "name": "stdout",
          "output_type": "stream",
          "text": [
            "Iteration 1 permanent costs\n",
            "Node 1    0.0\n",
            "Node 2    NaN\n",
            "Node 3    1.0\n",
            "Node 4    NaN\n",
            "Node 5    NaN\n",
            "Node 6    NaN\n",
            "dtype: float64\n",
            "Iteration 2 permanent costs\n",
            "Node 1    0.0\n",
            "Node 2    NaN\n",
            "Node 3    1.0\n",
            "Node 4    NaN\n",
            "Node 5    3.0\n",
            "Node 6    NaN\n",
            "dtype: float64\n",
            "Iteration 3 permanent costs\n",
            "Node 1    0.0\n",
            "Node 2    4.0\n",
            "Node 3    1.0\n",
            "Node 4    NaN\n",
            "Node 5    3.0\n",
            "Node 6    NaN\n",
            "dtype: float64\n",
            "Iteration 4 permanent costs\n",
            "Node 1    0.0\n",
            "Node 2    4.0\n",
            "Node 3    1.0\n",
            "Node 4    6.0\n",
            "Node 5    3.0\n",
            "Node 6    NaN\n",
            "dtype: float64\n",
            "Iteration 5 permanent costs\n",
            "Node 1    0.0\n",
            "Node 2    4.0\n",
            "Node 3    1.0\n",
            "Node 4    6.0\n",
            "Node 5    3.0\n",
            "Node 6    8.0\n",
            "dtype: float64\n"
          ]
        }
      ],
      "source": [
        "previousPermanentNodeIndex = 0\n",
        "iteration = 1\n",
        "\n",
        "while permanent.isnull().values.any():\n",
        "    \n",
        "    # Print iteration number\n",
        "    print(f'Iteration {iteration} permanent costs')\n",
        "\n",
        "    # Create copy of new possible node costs and set the previous\n",
        "    # permanent node cost to NaN to avoid an infinite loop caused by the 0 value attached\n",
        "    # to the same node\n",
        "    newPossibleNodeCosts = network.iloc[previousPermanentNodeIndex].copy()\n",
        "    newPossibleNodeCosts.iloc[previousPermanentNodeIndex] = np.nan\n",
        "\n",
        "    # Calculate the new possible node costs using the previous permanent node\n",
        "    newNodeCosts = newPossibleNodeCosts + permanent.iloc[previousPermanentNodeIndex]\n",
        "\n",
        "    # Find min between new possible node costs and temporary costs, call it calcCosts\n",
        "    calcCosts = np.fmin(newNodeCosts, temp)\n",
        "\n",
        "    # Find min of the calcCosts and the associated node, make the node\n",
        "    # and the cost permanent\n",
        "    newMin = np.nanmin(calcCosts)\n",
        "    newMinIndex = np.argmin(calcCosts)\n",
        "\n",
        "    # Update the permanent costs vector\n",
        "    permanent.iloc[newMinIndex] = newMin\n",
        "    print(permanent)\n",
        "\n",
        "    # Update the temporary costs vector\n",
        "    temp = np.fmin(calcCosts, temp)\n",
        "    # Make sure that any permanent nodes aren't included\n",
        "    temp.loc[permanent.notna()] = np.nan\n",
        "\n",
        "\n",
        "    # Update the previousPermanentNodeIndex\n",
        "    previousPermanentNodeIndex = newMinIndex\n",
        "\n",
        "    # Update iteration for display purposes\n",
        "    iteration += 1"
      ]
    },
    {
      "cell_type": "markdown",
      "metadata": {},
      "source": [
        "### Finding optimal path policy"
      ]
    },
    {
      "cell_type": "code",
      "execution_count": 5,
      "metadata": {},
      "outputs": [],
      "source": [
        "def findPredecessorsDjikstra(targetNode, network, optimalCosts):\n",
        "    # Iterate through the nodes that are adjacent to the target node unless it's the first node\n",
        "    if targetNode == 'Node 1':\n",
        "        return(('Node 1',))\n",
        "\n",
        "    # Find nodes that are adjacent to the target node and set the cost of same node to NaN so\n",
        "    # that it isn't considered\n",
        "    connectingCosts = network.loc[:,targetNode].copy()\n",
        "    connectingCosts.loc[targetNode] = np.nan\n",
        "\n",
        "    # Iterate through adjacent nodes\n",
        "    for adjacentNode in connectingCosts.index:\n",
        "        \n",
        "        # If the node is not adjacent, ignore it\n",
        "        if pd.isna(connectingCosts[adjacentNode]):\n",
        "            continue\n",
        "        \n",
        "        # Check if the cost to get to an adjacent node + the cost to get to target node is equal or\n",
        "        # less than the optimal cost--if so, the adjacent node is a predecessor\n",
        "        if optimalCosts[adjacentNode] + connectingCosts[adjacentNode] == optimalCosts[targetNode]:\n",
        "            return findPredecessorsDjikstra(adjacentNode, network, optimalCosts) + (targetNode,)"
      ]
    },
    {
      "cell_type": "code",
      "execution_count": 6,
      "metadata": {},
      "outputs": [
        {
          "data": {
            "text/plain": [
              "Node 1                                   (Node 1,)\n",
              "Node 2            (Node 1, Node 3, Node 5, Node 2)\n",
              "Node 3                            (Node 1, Node 3)\n",
              "Node 4            (Node 1, Node 3, Node 5, Node 4)\n",
              "Node 5                    (Node 1, Node 3, Node 5)\n",
              "Node 6    (Node 1, Node 3, Node 5, Node 4, Node 6)\n",
              "dtype: object"
            ]
          },
          "metadata": {},
          "output_type": "display_data"
        }
      ],
      "source": [
        "# Save a Series with the optimal policy\n",
        "policyDjikstra = pd.Series(index=network.columns, dtype=object)\n",
        "\n",
        "for node in network.columns:\n",
        "    policyDjikstra[node] = findPredecessorsDjikstra(node, network, permanent)\n",
        "\n",
        "display(policyDjikstra)"
      ]
    },
    {
      "cell_type": "markdown",
      "metadata": {},
      "source": [
        "## Bellman-Ford Algorithm"
      ]
    },
    {
      "cell_type": "code",
      "execution_count": 7,
      "metadata": {},
      "outputs": [
        {
          "name": "stdout",
          "output_type": "stream",
          "text": [
            "Iteration 1\n",
            "Node 1     0.0\n",
            "Node 2     4.0\n",
            "Node 3     1.0\n",
            "Node 4     6.0\n",
            "Node 5     3.0\n",
            "Node 6    10.0\n",
            "dtype: float64\n",
            "Iteration 2\n",
            "Node 1    0.0\n",
            "Node 2    4.0\n",
            "Node 3    1.0\n",
            "Node 4    6.0\n",
            "Node 5    3.0\n",
            "Node 6    8.0\n",
            "dtype: float64\n",
            "Iteration 3\n",
            "Node 1    0.0\n",
            "Node 2    4.0\n",
            "Node 3    1.0\n",
            "Node 4    6.0\n",
            "Node 5    3.0\n",
            "Node 6    8.0\n",
            "dtype: float64\n",
            "The node costs have converged\n",
            "\n",
            "Node predecessors:\n",
            "Node 1       NaN\n",
            "Node 2    Node 5\n",
            "Node 3    Node 1\n",
            "Node 4    Node 5\n",
            "Node 5    Node 3\n",
            "Node 6    Node 4\n",
            "dtype: object\n"
          ]
        }
      ],
      "source": [
        "# Initialize costs, policy vectors, and predecessors\n",
        "nodeCosts = pd.Series([0, np.nan, np.nan, np.nan, np.nan, np.nan], index=network.index)\n",
        "previousCosts = pd.Series([np.nan, np.nan, np.nan, np.nan, np.nan, np.nan], index=network.index)\n",
        "predecessors = pd.Series([np.nan, np.nan, np.nan, np.nan, np.nan, np.nan], index=network.index, dtype=object)\n",
        "\n",
        "# Iterate the amount of nodes in the network\n",
        "# While Bellman-Ford only needs V - 1 iterations, we run V to check for negative cycles\n",
        "for i in range(len(nodeCosts)):\n",
        "    \n",
        "    # Check for negative cycle, detected if i reaches the Vth iteration\n",
        "    if i == len(nodeCosts):\n",
        "        print(\"There was a negative cycle in the network\")\n",
        "    else:\n",
        "        print(f\"Iteration {i+1}\")\n",
        "\n",
        "    # For each iteration, iterate through all starting nodes to see if a smaller\n",
        "    # cost can be found to a connecting/adjacent end node\n",
        "    for startNodeIndex in nodeCosts.index:\n",
        "        for endNodeIndex in nodeCosts.index:\n",
        "            if startNodeIndex != endNodeIndex:\n",
        "                checkCost = network.loc[startNodeIndex][endNodeIndex] + nodeCosts[startNodeIndex]\n",
        "                # If a smaller cost is found, update the cost and the predecessor\n",
        "                if np.isnan(nodeCosts[endNodeIndex]) or checkCost < nodeCosts[endNodeIndex]:\n",
        "                    nodeCosts[endNodeIndex] = checkCost\n",
        "                    predecessors[endNodeIndex] = startNodeIndex\n",
        "    print(nodeCosts)\n",
        "\n",
        "    # Check if nodeCosts was updated at all or not\n",
        "    # If not, the nodeCosts have converged and we can break the loop\n",
        "    if pd.Series.equals(nodeCosts, previousCosts):\n",
        "        print(\"The node costs have converged\")\n",
        "        break\n",
        "\n",
        "    # Update the previous costs and policy vector for the next iteration\n",
        "    previousCosts = nodeCosts.copy()\n",
        "\n",
        "print(\"\\nNode predecessors:\")\n",
        "print(predecessors)"
      ]
    },
    {
      "cell_type": "markdown",
      "metadata": {},
      "source": [
        "### Finding optimal path policy"
      ]
    },
    {
      "cell_type": "code",
      "execution_count": 8,
      "metadata": {},
      "outputs": [
        {
          "name": "stdout",
          "output_type": "stream",
          "text": [
            "Node 1                                   (Node 1,)\n",
            "Node 2            (Node 1, Node 3, Node 5, Node 2)\n",
            "Node 3                            (Node 1, Node 3)\n",
            "Node 4            (Node 1, Node 3, Node 5, Node 4)\n",
            "Node 5                    (Node 1, Node 3, Node 5)\n",
            "Node 6    (Node 1, Node 3, Node 5, Node 4, Node 6)\n",
            "dtype: object\n"
          ]
        }
      ],
      "source": [
        "# Save a Series with the optimal policy using the predecessors Series\n",
        "policyBellman = pd.Series(index=network.columns, dtype=object)\n",
        "\n",
        "# Iterate through the nodes to find the optimal policy\n",
        "for node in policyBellman.index:\n",
        "    currentNode = node\n",
        "    \n",
        "    # If the node is the first node, set the policy to itself\n",
        "    if node == 'Node 1':\n",
        "        policyBellman[node] = ('Node 1',)\n",
        "        continue\n",
        "    \n",
        "    # If the node is not the first node, iterate through the predecessors\n",
        "    # to find the optimal path\n",
        "    while True:\n",
        "        # This first statement is necessary to avoid a TypeError\n",
        "        if type(policyBellman[node]) == float:\n",
        "            policyBellman[node] = (currentNode,)\n",
        "        else:\n",
        "            policyBellman[node] = (currentNode,) + policyBellman[node]\n",
        "        # Once Node 1 is reached, end the loop\n",
        "        if currentNode == 'Node 1':\n",
        "            break\n",
        "        else:\n",
        "            currentNode = predecessors[currentNode]\n",
        "\n",
        "print(policyBellman)"
      ]
    },
    {
      "cell_type": "markdown",
      "metadata": {},
      "source": [
        "## Floyd Algorithm"
      ]
    },
    {
      "cell_type": "markdown",
      "metadata": {},
      "source": [
        "Initialize distance matrix using the original network matrix"
      ]
    },
    {
      "cell_type": "code",
      "execution_count": 9,
      "metadata": {},
      "outputs": [
        {
          "data": {
            "application/vnd.microsoft.datawrangler.viewer.v0+json": {
              "columns": [
                {
                  "name": "index",
                  "rawType": "object",
                  "type": "string"
                },
                {
                  "name": "Node 1",
                  "rawType": "float64",
                  "type": "float"
                },
                {
                  "name": "Node 2",
                  "rawType": "float64",
                  "type": "float"
                },
                {
                  "name": "Node 3",
                  "rawType": "float64",
                  "type": "float"
                },
                {
                  "name": "Node 4",
                  "rawType": "float64",
                  "type": "float"
                },
                {
                  "name": "Node 5",
                  "rawType": "float64",
                  "type": "float"
                },
                {
                  "name": "Node 6",
                  "rawType": "float64",
                  "type": "float"
                }
              ],
              "conversionMethod": "pd.DataFrame",
              "ref": "a10f1230-d875-41ea-a1b0-5c300282f36b",
              "rows": [
                [
                  "Node 1",
                  "0.0",
                  "5.0",
                  "1.0",
                  null,
                  null,
                  null
                ],
                [
                  "Node 2",
                  null,
                  "0.0",
                  "4.0",
                  "6.0",
                  null,
                  null
                ],
                [
                  "Node 3",
                  null,
                  null,
                  "0.0",
                  "7.0",
                  "2.0",
                  null
                ],
                [
                  "Node 4",
                  null,
                  null,
                  null,
                  "0.0",
                  null,
                  "2.0"
                ],
                [
                  "Node 5",
                  null,
                  "1.0",
                  null,
                  "3.0",
                  "0.0",
                  "8.0"
                ],
                [
                  "Node 6",
                  null,
                  null,
                  null,
                  null,
                  null,
                  "0.0"
                ]
              ],
              "shape": {
                "columns": 6,
                "rows": 6
              }
            },
            "text/html": [
              "<div>\n",
              "<style scoped>\n",
              "    .dataframe tbody tr th:only-of-type {\n",
              "        vertical-align: middle;\n",
              "    }\n",
              "\n",
              "    .dataframe tbody tr th {\n",
              "        vertical-align: top;\n",
              "    }\n",
              "\n",
              "    .dataframe thead th {\n",
              "        text-align: right;\n",
              "    }\n",
              "</style>\n",
              "<table border=\"1\" class=\"dataframe\">\n",
              "  <thead>\n",
              "    <tr style=\"text-align: right;\">\n",
              "      <th></th>\n",
              "      <th>Node 1</th>\n",
              "      <th>Node 2</th>\n",
              "      <th>Node 3</th>\n",
              "      <th>Node 4</th>\n",
              "      <th>Node 5</th>\n",
              "      <th>Node 6</th>\n",
              "    </tr>\n",
              "  </thead>\n",
              "  <tbody>\n",
              "    <tr>\n",
              "      <th>Node 1</th>\n",
              "      <td>0.0</td>\n",
              "      <td>5.0</td>\n",
              "      <td>1.0</td>\n",
              "      <td>NaN</td>\n",
              "      <td>NaN</td>\n",
              "      <td>NaN</td>\n",
              "    </tr>\n",
              "    <tr>\n",
              "      <th>Node 2</th>\n",
              "      <td>NaN</td>\n",
              "      <td>0.0</td>\n",
              "      <td>4.0</td>\n",
              "      <td>6.0</td>\n",
              "      <td>NaN</td>\n",
              "      <td>NaN</td>\n",
              "    </tr>\n",
              "    <tr>\n",
              "      <th>Node 3</th>\n",
              "      <td>NaN</td>\n",
              "      <td>NaN</td>\n",
              "      <td>0.0</td>\n",
              "      <td>7.0</td>\n",
              "      <td>2.0</td>\n",
              "      <td>NaN</td>\n",
              "    </tr>\n",
              "    <tr>\n",
              "      <th>Node 4</th>\n",
              "      <td>NaN</td>\n",
              "      <td>NaN</td>\n",
              "      <td>NaN</td>\n",
              "      <td>0.0</td>\n",
              "      <td>NaN</td>\n",
              "      <td>2.0</td>\n",
              "    </tr>\n",
              "    <tr>\n",
              "      <th>Node 5</th>\n",
              "      <td>NaN</td>\n",
              "      <td>1.0</td>\n",
              "      <td>NaN</td>\n",
              "      <td>3.0</td>\n",
              "      <td>0.0</td>\n",
              "      <td>8.0</td>\n",
              "    </tr>\n",
              "    <tr>\n",
              "      <th>Node 6</th>\n",
              "      <td>NaN</td>\n",
              "      <td>NaN</td>\n",
              "      <td>NaN</td>\n",
              "      <td>NaN</td>\n",
              "      <td>NaN</td>\n",
              "      <td>0.0</td>\n",
              "    </tr>\n",
              "  </tbody>\n",
              "</table>\n",
              "</div>"
            ],
            "text/plain": [
              "        Node 1  Node 2  Node 3  Node 4  Node 5  Node 6\n",
              "Node 1     0.0     5.0     1.0     NaN     NaN     NaN\n",
              "Node 2     NaN     0.0     4.0     6.0     NaN     NaN\n",
              "Node 3     NaN     NaN     0.0     7.0     2.0     NaN\n",
              "Node 4     NaN     NaN     NaN     0.0     NaN     2.0\n",
              "Node 5     NaN     1.0     NaN     3.0     0.0     8.0\n",
              "Node 6     NaN     NaN     NaN     NaN     NaN     0.0"
            ]
          },
          "metadata": {},
          "output_type": "display_data"
        }
      ],
      "source": [
        "distances = network.copy()\n",
        "\n",
        "display(distances)"
      ]
    },
    {
      "cell_type": "code",
      "execution_count": 10,
      "metadata": {},
      "outputs": [
        {
          "name": "stderr",
          "output_type": "stream",
          "text": [
            "/var/folders/v_/lft8__tj6fd561d9kywt6m21d_dv91/T/ipykernel_61990/388568499.py:8: RuntimeWarning: All-NaN axis encountered\n",
            "  distances.loc[startNode,endNode] = np.nanmin([distances.loc[startNode,endNode], distances.loc[startNode,intermediateNode] + distances.loc[intermediateNode,endNode]])\n"
          ]
        },
        {
          "data": {
            "application/vnd.microsoft.datawrangler.viewer.v0+json": {
              "columns": [
                {
                  "name": "index",
                  "rawType": "object",
                  "type": "string"
                },
                {
                  "name": "Node 1",
                  "rawType": "float64",
                  "type": "float"
                },
                {
                  "name": "Node 2",
                  "rawType": "float64",
                  "type": "float"
                },
                {
                  "name": "Node 3",
                  "rawType": "float64",
                  "type": "float"
                },
                {
                  "name": "Node 4",
                  "rawType": "float64",
                  "type": "float"
                },
                {
                  "name": "Node 5",
                  "rawType": "float64",
                  "type": "float"
                },
                {
                  "name": "Node 6",
                  "rawType": "float64",
                  "type": "float"
                }
              ],
              "conversionMethod": "pd.DataFrame",
              "ref": "9ce96650-a551-432c-ab14-12094d6fe782",
              "rows": [
                [
                  "Node 1",
                  "0.0",
                  "4.0",
                  "1.0",
                  "6.0",
                  "3.0",
                  "8.0"
                ],
                [
                  "Node 2",
                  null,
                  "0.0",
                  "4.0",
                  "6.0",
                  "6.0",
                  "8.0"
                ],
                [
                  "Node 3",
                  null,
                  "3.0",
                  "0.0",
                  "5.0",
                  "2.0",
                  "7.0"
                ],
                [
                  "Node 4",
                  null,
                  null,
                  null,
                  "0.0",
                  null,
                  "2.0"
                ],
                [
                  "Node 5",
                  null,
                  "1.0",
                  "5.0",
                  "3.0",
                  "0.0",
                  "5.0"
                ],
                [
                  "Node 6",
                  null,
                  null,
                  null,
                  null,
                  null,
                  "0.0"
                ]
              ],
              "shape": {
                "columns": 6,
                "rows": 6
              }
            },
            "text/html": [
              "<div>\n",
              "<style scoped>\n",
              "    .dataframe tbody tr th:only-of-type {\n",
              "        vertical-align: middle;\n",
              "    }\n",
              "\n",
              "    .dataframe tbody tr th {\n",
              "        vertical-align: top;\n",
              "    }\n",
              "\n",
              "    .dataframe thead th {\n",
              "        text-align: right;\n",
              "    }\n",
              "</style>\n",
              "<table border=\"1\" class=\"dataframe\">\n",
              "  <thead>\n",
              "    <tr style=\"text-align: right;\">\n",
              "      <th></th>\n",
              "      <th>Node 1</th>\n",
              "      <th>Node 2</th>\n",
              "      <th>Node 3</th>\n",
              "      <th>Node 4</th>\n",
              "      <th>Node 5</th>\n",
              "      <th>Node 6</th>\n",
              "    </tr>\n",
              "  </thead>\n",
              "  <tbody>\n",
              "    <tr>\n",
              "      <th>Node 1</th>\n",
              "      <td>0.0</td>\n",
              "      <td>4.0</td>\n",
              "      <td>1.0</td>\n",
              "      <td>6.0</td>\n",
              "      <td>3.0</td>\n",
              "      <td>8.0</td>\n",
              "    </tr>\n",
              "    <tr>\n",
              "      <th>Node 2</th>\n",
              "      <td>NaN</td>\n",
              "      <td>0.0</td>\n",
              "      <td>4.0</td>\n",
              "      <td>6.0</td>\n",
              "      <td>6.0</td>\n",
              "      <td>8.0</td>\n",
              "    </tr>\n",
              "    <tr>\n",
              "      <th>Node 3</th>\n",
              "      <td>NaN</td>\n",
              "      <td>3.0</td>\n",
              "      <td>0.0</td>\n",
              "      <td>5.0</td>\n",
              "      <td>2.0</td>\n",
              "      <td>7.0</td>\n",
              "    </tr>\n",
              "    <tr>\n",
              "      <th>Node 4</th>\n",
              "      <td>NaN</td>\n",
              "      <td>NaN</td>\n",
              "      <td>NaN</td>\n",
              "      <td>0.0</td>\n",
              "      <td>NaN</td>\n",
              "      <td>2.0</td>\n",
              "    </tr>\n",
              "    <tr>\n",
              "      <th>Node 5</th>\n",
              "      <td>NaN</td>\n",
              "      <td>1.0</td>\n",
              "      <td>5.0</td>\n",
              "      <td>3.0</td>\n",
              "      <td>0.0</td>\n",
              "      <td>5.0</td>\n",
              "    </tr>\n",
              "    <tr>\n",
              "      <th>Node 6</th>\n",
              "      <td>NaN</td>\n",
              "      <td>NaN</td>\n",
              "      <td>NaN</td>\n",
              "      <td>NaN</td>\n",
              "      <td>NaN</td>\n",
              "      <td>0.0</td>\n",
              "    </tr>\n",
              "  </tbody>\n",
              "</table>\n",
              "</div>"
            ],
            "text/plain": [
              "        Node 1  Node 2  Node 3  Node 4  Node 5  Node 6\n",
              "Node 1     0.0     4.0     1.0     6.0     3.0     8.0\n",
              "Node 2     NaN     0.0     4.0     6.0     6.0     8.0\n",
              "Node 3     NaN     3.0     0.0     5.0     2.0     7.0\n",
              "Node 4     NaN     NaN     NaN     0.0     NaN     2.0\n",
              "Node 5     NaN     1.0     5.0     3.0     0.0     5.0\n",
              "Node 6     NaN     NaN     NaN     NaN     NaN     0.0"
            ]
          },
          "metadata": {},
          "output_type": "display_data"
        }
      ],
      "source": [
        "# Iterate through each possible intermediate node\n",
        "for intermediateNode in distances.index:\n",
        "    # Iterate through each possible start node\n",
        "    for startNode in distances.index:\n",
        "        # Iterate through each possible end node\n",
        "        for endNode in distances.columns:\n",
        "            # Update the distance if a shorter path is found\n",
        "            distances.loc[startNode,endNode] = np.nanmin([distances.loc[startNode,endNode], distances.loc[startNode,intermediateNode] + distances.loc[intermediateNode,endNode]])\n",
        "\n",
        "display(distances)\n"
      ]
    },
    {
      "cell_type": "markdown",
      "metadata": {},
      "source": [
        "### Finding optimal path policy"
      ]
    },
    {
      "cell_type": "code",
      "execution_count": 11,
      "metadata": {},
      "outputs": [],
      "source": [
        "def findPredecessorsFloyd(startNode, targetNode, adjacencyMatrix, distanceMatrix):\n",
        "    # Find optimal costs associated with the start node\n",
        "    optimalCosts = distanceMatrix.loc[startNode].copy()\n",
        "    \n",
        "    # Iterate through the nodes that are adjacent to the target node unless it's the start node\n",
        "    if targetNode == startNode:\n",
        "        return((startNode,))\n",
        "\n",
        "    # Find nodes that are adjacent to the target node and set the cost of same node to NaN so\n",
        "    # that it isn't considered\n",
        "    connectingCosts = adjacencyMatrix.loc[:,targetNode].copy()\n",
        "    connectingCosts.loc[targetNode] = np.nan\n",
        "\n",
        "    # Iterate through adjacent nodes\n",
        "    for adjacentNode in connectingCosts.index:\n",
        "        \n",
        "        # If the node is not adjacent, ignore it\n",
        "        if pd.isna(connectingCosts[adjacentNode]):\n",
        "            continue\n",
        "        \n",
        "        # Check if the cost to get to an adjacent node + the cost to get to target node is equal or\n",
        "        # less than the optimal cost--if so, the adjacent node is a predecessor\n",
        "        if optimalCosts[adjacentNode] + connectingCosts[adjacentNode] == optimalCosts[targetNode]:\n",
        "            return findPredecessorsFloyd(startNode, adjacentNode, adjacencyMatrix, distanceMatrix) + (targetNode,)"
      ]
    },
    {
      "cell_type": "code",
      "execution_count": 12,
      "metadata": {},
      "outputs": [
        {
          "data": {
            "application/vnd.microsoft.datawrangler.viewer.v0+json": {
              "columns": [
                {
                  "name": "index",
                  "rawType": "object",
                  "type": "string"
                },
                {
                  "name": "Node 1",
                  "rawType": "object",
                  "type": "unknown"
                },
                {
                  "name": "Node 2",
                  "rawType": "object",
                  "type": "unknown"
                },
                {
                  "name": "Node 3",
                  "rawType": "object",
                  "type": "unknown"
                },
                {
                  "name": "Node 4",
                  "rawType": "object",
                  "type": "unknown"
                },
                {
                  "name": "Node 5",
                  "rawType": "object",
                  "type": "unknown"
                },
                {
                  "name": "Node 6",
                  "rawType": "object",
                  "type": "unknown"
                }
              ],
              "conversionMethod": "pd.DataFrame",
              "ref": "8125a801-29f1-4cbc-aab0-1396f855b706",
              "rows": [
                [
                  "Node 1",
                  "('Node 1',)",
                  "('Node 1', 'Node 3', 'Node 5', 'Node 2')",
                  "('Node 1', 'Node 3')",
                  "('Node 1', 'Node 3', 'Node 5', 'Node 4')",
                  "('Node 1', 'Node 3', 'Node 5')",
                  "('Node 1', 'Node 3', 'Node 5', 'Node 4', 'Node 6')"
                ],
                [
                  "Node 2",
                  null,
                  "('Node 2',)",
                  "('Node 2', 'Node 3')",
                  "('Node 2', 'Node 4')",
                  "('Node 2', 'Node 3', 'Node 5')",
                  "('Node 2', 'Node 4', 'Node 6')"
                ],
                [
                  "Node 3",
                  null,
                  "('Node 3', 'Node 5', 'Node 2')",
                  "('Node 3',)",
                  "('Node 3', 'Node 5', 'Node 4')",
                  "('Node 3', 'Node 5')",
                  "('Node 3', 'Node 5', 'Node 4', 'Node 6')"
                ],
                [
                  "Node 4",
                  null,
                  null,
                  null,
                  "('Node 4',)",
                  null,
                  "('Node 4', 'Node 6')"
                ],
                [
                  "Node 5",
                  null,
                  "('Node 5', 'Node 2')",
                  "('Node 5', 'Node 2', 'Node 3')",
                  "('Node 5', 'Node 4')",
                  "('Node 5',)",
                  "('Node 5', 'Node 4', 'Node 6')"
                ],
                [
                  "Node 6",
                  null,
                  null,
                  null,
                  null,
                  null,
                  "('Node 6',)"
                ]
              ],
              "shape": {
                "columns": 6,
                "rows": 6
              }
            },
            "text/html": [
              "<div>\n",
              "<style scoped>\n",
              "    .dataframe tbody tr th:only-of-type {\n",
              "        vertical-align: middle;\n",
              "    }\n",
              "\n",
              "    .dataframe tbody tr th {\n",
              "        vertical-align: top;\n",
              "    }\n",
              "\n",
              "    .dataframe thead th {\n",
              "        text-align: right;\n",
              "    }\n",
              "</style>\n",
              "<table border=\"1\" class=\"dataframe\">\n",
              "  <thead>\n",
              "    <tr style=\"text-align: right;\">\n",
              "      <th></th>\n",
              "      <th>Node 1</th>\n",
              "      <th>Node 2</th>\n",
              "      <th>Node 3</th>\n",
              "      <th>Node 4</th>\n",
              "      <th>Node 5</th>\n",
              "      <th>Node 6</th>\n",
              "    </tr>\n",
              "  </thead>\n",
              "  <tbody>\n",
              "    <tr>\n",
              "      <th>Node 1</th>\n",
              "      <td>(Node 1,)</td>\n",
              "      <td>(Node 1, Node 3, Node 5, Node 2)</td>\n",
              "      <td>(Node 1, Node 3)</td>\n",
              "      <td>(Node 1, Node 3, Node 5, Node 4)</td>\n",
              "      <td>(Node 1, Node 3, Node 5)</td>\n",
              "      <td>(Node 1, Node 3, Node 5, Node 4, Node 6)</td>\n",
              "    </tr>\n",
              "    <tr>\n",
              "      <th>Node 2</th>\n",
              "      <td>None</td>\n",
              "      <td>(Node 2,)</td>\n",
              "      <td>(Node 2, Node 3)</td>\n",
              "      <td>(Node 2, Node 4)</td>\n",
              "      <td>(Node 2, Node 3, Node 5)</td>\n",
              "      <td>(Node 2, Node 4, Node 6)</td>\n",
              "    </tr>\n",
              "    <tr>\n",
              "      <th>Node 3</th>\n",
              "      <td>None</td>\n",
              "      <td>(Node 3, Node 5, Node 2)</td>\n",
              "      <td>(Node 3,)</td>\n",
              "      <td>(Node 3, Node 5, Node 4)</td>\n",
              "      <td>(Node 3, Node 5)</td>\n",
              "      <td>(Node 3, Node 5, Node 4, Node 6)</td>\n",
              "    </tr>\n",
              "    <tr>\n",
              "      <th>Node 4</th>\n",
              "      <td>None</td>\n",
              "      <td>None</td>\n",
              "      <td>None</td>\n",
              "      <td>(Node 4,)</td>\n",
              "      <td>None</td>\n",
              "      <td>(Node 4, Node 6)</td>\n",
              "    </tr>\n",
              "    <tr>\n",
              "      <th>Node 5</th>\n",
              "      <td>None</td>\n",
              "      <td>(Node 5, Node 2)</td>\n",
              "      <td>(Node 5, Node 2, Node 3)</td>\n",
              "      <td>(Node 5, Node 4)</td>\n",
              "      <td>(Node 5,)</td>\n",
              "      <td>(Node 5, Node 4, Node 6)</td>\n",
              "    </tr>\n",
              "    <tr>\n",
              "      <th>Node 6</th>\n",
              "      <td>None</td>\n",
              "      <td>None</td>\n",
              "      <td>None</td>\n",
              "      <td>None</td>\n",
              "      <td>None</td>\n",
              "      <td>(Node 6,)</td>\n",
              "    </tr>\n",
              "  </tbody>\n",
              "</table>\n",
              "</div>"
            ],
            "text/plain": [
              "           Node 1                            Node 2                    Node 3  \\\n",
              "Node 1  (Node 1,)  (Node 1, Node 3, Node 5, Node 2)          (Node 1, Node 3)   \n",
              "Node 2       None                         (Node 2,)          (Node 2, Node 3)   \n",
              "Node 3       None          (Node 3, Node 5, Node 2)                 (Node 3,)   \n",
              "Node 4       None                              None                      None   \n",
              "Node 5       None                  (Node 5, Node 2)  (Node 5, Node 2, Node 3)   \n",
              "Node 6       None                              None                      None   \n",
              "\n",
              "                                  Node 4                    Node 5  \\\n",
              "Node 1  (Node 1, Node 3, Node 5, Node 4)  (Node 1, Node 3, Node 5)   \n",
              "Node 2                  (Node 2, Node 4)  (Node 2, Node 3, Node 5)   \n",
              "Node 3          (Node 3, Node 5, Node 4)          (Node 3, Node 5)   \n",
              "Node 4                         (Node 4,)                      None   \n",
              "Node 5                  (Node 5, Node 4)                 (Node 5,)   \n",
              "Node 6                              None                      None   \n",
              "\n",
              "                                          Node 6  \n",
              "Node 1  (Node 1, Node 3, Node 5, Node 4, Node 6)  \n",
              "Node 2                  (Node 2, Node 4, Node 6)  \n",
              "Node 3          (Node 3, Node 5, Node 4, Node 6)  \n",
              "Node 4                          (Node 4, Node 6)  \n",
              "Node 5                  (Node 5, Node 4, Node 6)  \n",
              "Node 6                                 (Node 6,)  "
            ]
          },
          "metadata": {},
          "output_type": "display_data"
        }
      ],
      "source": [
        "# Save a DataFrame with the optimal policy using the distances matrix\n",
        "policyFloyd = pd.DataFrame(index=network.index, columns=network.columns, dtype=object)\n",
        "\n",
        "for startNode in network.index:\n",
        "    for targetNode in network.columns:\n",
        "        policyFloyd.loc[startNode, targetNode] = findPredecessorsFloyd(startNode=startNode, targetNode=targetNode, adjacencyMatrix=network, distanceMatrix=distances)\n",
        "\n",
        "display(policyFloyd)"
      ]
    }
  ],
  "metadata": {
    "colab": {
      "authorship_tag": "ABX9TyNzxHPIjKFd4KtokkRzMWlZ",
      "include_colab_link": true,
      "provenance": []
    },
    "kernelspec": {
      "display_name": ".venv",
      "language": "python",
      "name": "python3"
    },
    "language_info": {
      "codemirror_mode": {
        "name": "ipython",
        "version": 3
      },
      "file_extension": ".py",
      "mimetype": "text/x-python",
      "name": "python",
      "nbconvert_exporter": "python",
      "pygments_lexer": "ipython3",
      "version": "3.13.2"
    }
  },
  "nbformat": 4,
  "nbformat_minor": 0
}
