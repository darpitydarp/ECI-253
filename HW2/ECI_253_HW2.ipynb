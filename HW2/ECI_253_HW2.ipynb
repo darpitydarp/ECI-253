{
  "cells": [
    {
      "cell_type": "code",
      "execution_count": null,
      "metadata": {
        "id": "uUA-DakOqqs7"
      },
      "outputs": [],
      "source": [
        "import pandas as pd\n",
        "import numpy as np"
      ]
    },
    {
      "cell_type": "markdown",
      "metadata": {
        "id": "iZmcGjE7p91O"
      },
      "source": [
        "## Initialization"
      ]
    },
    {
      "cell_type": "markdown",
      "metadata": {
        "id": "UwU-9_Yfprs0"
      },
      "source": [
        "Create the base network as a matrix of costs, where a cost of NaN represents a non-adjacent node. The cost to the same node (diagonal of the matrix) is also listed as NaN for programming purposes. Typically, the diagonal should be listed as a 0, but this creates problems in the scripts for Djikstra's Algorithm and the Bellman-Ford Algorithm."
      ]
    },
    {
      "cell_type": "code",
      "execution_count": null,
      "metadata": {
        "id": "_N6YQh19pGgE"
      },
      "outputs": [],
      "source": [
        "# Manually initialized adjacency matrix\n",
        "network = pd.DataFrame(\n",
        "    [[0,5,1,np.nan,np.nan,np.nan],\n",
        "     [np.nan,0,4,6,np.nan,np.nan],\n",
        "     [np.nan,np.nan,0,7,2,np.nan],\n",
        "     [np.nan,np.nan,np.nan,0,np.nan,2],\n",
        "     [np.nan,1,np.nan,3,0,8],\n",
        "     [np.nan,np.nan,np.nan,np.nan,np.nan,0]])\n",
        "\n",
        "network.index = ['Node 1', 'Node 2', 'Node 3', 'Node 4', 'Node 5', 'Node 6']\n",
        "network.columns = network.index\n",
        "\n",
        "display(network)"
      ]
    },
    {
      "cell_type": "markdown",
      "metadata": {},
      "source": [
        "## Djikstra's Algorithm"
      ]
    },
    {
      "cell_type": "code",
      "execution_count": null,
      "metadata": {
        "id": "-j-9SA98sHvt"
      },
      "outputs": [],
      "source": [
        "# Initialize the temporary labels, permanent labels, and optimal policy vectors\n",
        "permanent = pd.Series([0,np.nan,np.nan,np.nan,np.nan,np.nan])\n",
        "temp = pd.Series([np.nan,np.nan,np.nan,np.nan,np.nan,np.nan])\n",
        "\n",
        "temp.index = permanent.index = network.index"
      ]
    },
    {
      "cell_type": "code",
      "execution_count": null,
      "metadata": {
        "colab": {
          "base_uri": "https://localhost:8080/"
        },
        "id": "n7BrpHsoyS71",
        "outputId": "7cfdd919-5ab2-4aba-bb17-9a400119aa08"
      },
      "outputs": [],
      "source": [
        "previousPermanentNodeIndex = 0\n",
        "iteration = 1\n",
        "\n",
        "while permanent.isnull().values.any():\n",
        "    \n",
        "    # Print iteration number\n",
        "    print(f'Iteration {iteration} permanent costs')\n",
        "\n",
        "    # Create copy of new possible node costs and set the previous\n",
        "    # permanent node cost to NaN to avoid an infinite loop caused by the 0 value attached\n",
        "    # to the same node\n",
        "    newPossibleNodeCosts = network.iloc[previousPermanentNodeIndex].copy()\n",
        "    newPossibleNodeCosts.iloc[previousPermanentNodeIndex] = np.nan\n",
        "\n",
        "    # Calculate the new possible node costs using the previous permanent node\n",
        "    newNodeCosts = newPossibleNodeCosts + permanent.iloc[previousPermanentNodeIndex]\n",
        "\n",
        "    # Find min between new possible node costs and temporary costs, call it calcCosts\n",
        "    calcCosts = np.fmin(newNodeCosts, temp)\n",
        "\n",
        "    # Find min of the calcCosts and the associated node, make the node\n",
        "    # and the cost permanent\n",
        "    newMin = np.nanmin(calcCosts)\n",
        "    newMinIndex = np.argmin(calcCosts)\n",
        "\n",
        "    # Update the permanent costs vector\n",
        "    permanent.iloc[newMinIndex] = newMin\n",
        "    print(permanent)\n",
        "\n",
        "    # Update the temporary costs vector\n",
        "    temp = np.fmin(calcCosts, temp)\n",
        "    # Make sure that any permanent nodes aren't included\n",
        "    temp.loc[permanent.notna()] = np.nan\n",
        "\n",
        "\n",
        "    # Update the previousPermanentNodeIndex\n",
        "    previousPermanentNodeIndex = newMinIndex\n",
        "\n",
        "    # Update iteration for display purposes\n",
        "    iteration += 1"
      ]
    },
    {
      "cell_type": "markdown",
      "metadata": {},
      "source": [
        "### Finding optimal path policy"
      ]
    },
    {
      "cell_type": "code",
      "execution_count": null,
      "metadata": {},
      "outputs": [],
      "source": [
        "def findPredecessorsDjikstra(targetNode, network, optimalCosts):\n",
        "    # Iterate through the nodes that are adjacent to the target node unless it's the first node\n",
        "    if targetNode == 'Node 1':\n",
        "        return(('Node 1',))\n",
        "\n",
        "    # Find nodes that are adjacent to the target node and set the cost of same node to NaN so\n",
        "    # that it isn't considered\n",
        "    connectingCosts = network.loc[:,targetNode].copy()\n",
        "    connectingCosts.loc[targetNode] = np.nan\n",
        "\n",
        "    # Iterate through adjacent nodes\n",
        "    for adjacentNode in connectingCosts.index:\n",
        "        \n",
        "        # If the node is not adjacent, ignore it\n",
        "        if pd.isna(connectingCosts[adjacentNode]):\n",
        "            continue\n",
        "        \n",
        "        # Check if the cost to get to an adjacent node + the cost to get to target node is equal or\n",
        "        # less than the optimal cost--if so, the adjacent node is a predecessor\n",
        "        if optimalCosts[adjacentNode] + connectingCosts[adjacentNode] == optimalCosts[targetNode]:\n",
        "            return findPredecessorsDjikstra(adjacentNode, network, optimalCosts) + (targetNode,)    "
      ]
    },
    {
      "cell_type": "code",
      "execution_count": null,
      "metadata": {},
      "outputs": [],
      "source": [
        "# Save a Series with the optimal policy\n",
        "policyDjikstra = pd.Series(index=network.columns, dtype=object)\n",
        "\n",
        "for node in network.columns:\n",
        "    policyDjikstra[node] = findPredecessorsDjikstra(node, network, permanent)\n",
        "\n",
        "display(policyDjikstra)"
      ]
    },
    {
      "cell_type": "markdown",
      "metadata": {},
      "source": [
        "## Bellman-Ford Algorithm"
      ]
    },
    {
      "cell_type": "code",
      "execution_count": null,
      "metadata": {},
      "outputs": [],
      "source": [
        "# Initialize costs, policy vectors, and predecessors\n",
        "nodeCosts = pd.Series([0, np.nan, np.nan, np.nan, np.nan, np.nan], index=network.index)\n",
        "previousCosts = pd.Series([np.nan, np.nan, np.nan, np.nan, np.nan, np.nan], index=network.index)\n",
        "predecessors = pd.Series([np.nan, np.nan, np.nan, np.nan, np.nan, np.nan], index=network.index, dtype=object)\n",
        "\n",
        "# Iterate the amount of nodes in the network\n",
        "# While Bellman-Ford only needs V - 1 iterations, we run V to check for negative cycles\n",
        "for i in range(len(nodeCosts)):\n",
        "    \n",
        "    # Check for negative cycle, detected if i reaches the Vth iteration\n",
        "    if i == len(nodeCosts):\n",
        "        print(\"There was a negative cycle in the network\")\n",
        "    else:\n",
        "        print(f\"Iteration {i+1}\")\n",
        "\n",
        "    # For each iteration, iterate through all starting nodes to see if a smaller\n",
        "    # cost can be found to a connecting/adjacent end node\n",
        "    for startNodeIndex in nodeCosts.index:\n",
        "        for endNodeIndex in nodeCosts.index:\n",
        "            if startNodeIndex != endNodeIndex:\n",
        "                checkCost = network.loc[startNodeIndex][endNodeIndex].copy() + nodeCosts[startNodeIndex]\n",
        "                # If a smaller cost is found, update the cost and the predecessor\n",
        "                if np.isnan(nodeCosts[endNodeIndex]) or checkCost < nodeCosts[endNodeIndex]:\n",
        "                    nodeCosts[endNodeIndex] = checkCost\n",
        "                    predecessors[endNodeIndex] = startNodeIndex\n",
        "    print(nodeCosts)\n",
        "\n",
        "    # Check if nodeCosts was updated at all or not\n",
        "    # If not, the nodeCosts have converged and we can break the loop\n",
        "    if pd.Series.equals(nodeCosts, previousCosts):\n",
        "        print(\"The node costs have converged\")\n",
        "        break\n",
        "\n",
        "    # Update the previous costs and policy vector for the next iteration\n",
        "    previousCosts = nodeCosts.copy()\n",
        "\n",
        "print(\"\\nNode predecessors:\")\n",
        "print(predecessors)"
      ]
    },
    {
      "cell_type": "markdown",
      "metadata": {},
      "source": [
        "### Finding optimal path policy"
      ]
    },
    {
      "cell_type": "code",
      "execution_count": null,
      "metadata": {},
      "outputs": [],
      "source": [
        "# Save a Series with the optimal policy using the predecessors Series\n",
        "policyBellman = pd.Series(index=network.columns, dtype=object)\n",
        "\n",
        "# Iterate through the nodes to find the optimal policy\n",
        "for node in policyBellman.index:\n",
        "    currentNode = node\n",
        "    \n",
        "    # If the node is the first node, set the policy to itself\n",
        "    if node == 'Node 1':\n",
        "        policyBellman[node] = ('Node 1',)\n",
        "        continue\n",
        "    \n",
        "    # If the node is not the first node, iterate through the predecessors\n",
        "    # to find the optimal path\n",
        "    while True:\n",
        "        # This first statement is necessary to avoid a TypeError\n",
        "        if type(policyBellman[node]) == float:\n",
        "            policyBellman[node] = (currentNode,)\n",
        "        else:\n",
        "            policyBellman[node] = (currentNode,) + policyBellman[node]\n",
        "        # Once Node 1 is reached, end the loop\n",
        "        if currentNode == 'Node 1':\n",
        "            break\n",
        "        else:\n",
        "            currentNode = predecessors[currentNode]\n",
        "\n",
        "print(policyBellman)"
      ]
    },
    {
      "cell_type": "markdown",
      "metadata": {},
      "source": [
        "## Floyd Algorithm"
      ]
    },
    {
      "cell_type": "markdown",
      "metadata": {},
      "source": [
        "Initialize distance matrix using the original network matrix"
      ]
    },
    {
      "cell_type": "code",
      "execution_count": null,
      "metadata": {},
      "outputs": [],
      "source": [
        "distances = network\n",
        "\n",
        "display(distances)"
      ]
    },
    {
      "cell_type": "code",
      "execution_count": null,
      "metadata": {},
      "outputs": [],
      "source": [
        "# Iterate through each possible intermediate node\n",
        "for intermediateNode in distances.index:\n",
        "    # Iterate through each possible start node\n",
        "    for startNode in distances.index:\n",
        "        # Iterate through each possible end node\n",
        "        for endNode in distances.columns:\n",
        "            # Update the distance if a shorter path is found\n",
        "            distances.loc[startNode,endNode] = np.nanmin([distances.loc[startNode,endNode], distances.loc[startNode,intermediateNode] + distances.loc[intermediateNode,endNode]])\n",
        "\n",
        "display(distances)\n"
      ]
    }
  ],
  "metadata": {
    "colab": {
      "authorship_tag": "ABX9TyNzxHPIjKFd4KtokkRzMWlZ",
      "include_colab_link": true,
      "provenance": []
    },
    "kernelspec": {
      "display_name": ".venv",
      "language": "python",
      "name": "python3"
    },
    "language_info": {
      "codemirror_mode": {
        "name": "ipython",
        "version": 3
      },
      "file_extension": ".py",
      "mimetype": "text/x-python",
      "name": "python",
      "nbconvert_exporter": "python",
      "pygments_lexer": "ipython3",
      "version": "3.13.2"
    }
  },
  "nbformat": 4,
  "nbformat_minor": 0
}
