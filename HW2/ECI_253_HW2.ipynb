{
  "cells": [
    {
      "cell_type": "code",
      "execution_count": 1,
      "metadata": {
        "id": "uUA-DakOqqs7"
      },
      "outputs": [],
      "source": [
        "import pandas as pd\n",
        "import numpy as np"
      ]
    },
    {
      "cell_type": "markdown",
      "metadata": {
        "id": "iZmcGjE7p91O"
      },
      "source": [
        "## Initialization"
      ]
    },
    {
      "cell_type": "markdown",
      "metadata": {
        "id": "UwU-9_Yfprs0"
      },
      "source": [
        "Create the base network as a matrix of costs, where a cost of NaN represents a non-adjacent node. The cost to the same node (diagonal of the matrix) is also listed as NaN for programming purposes. Typically, the diagonal should be listed as a 0, but this creates problems in the scripts for Djikstra's Algorithm and the Bellman-Ford Algorithm."
      ]
    },
    {
      "cell_type": "code",
      "execution_count": 2,
      "metadata": {
        "id": "_N6YQh19pGgE"
      },
      "outputs": [],
      "source": [
        "network = pd.DataFrame(\n",
        "    [[np.nan,5,1,np.nan,np.nan,np.nan],\n",
        "     [np.nan,np.nan,4,6,np.nan,np.nan],\n",
        "     [np.nan,np.nan,np.nan,7,2,np.nan],\n",
        "     [np.nan,np.nan,np.nan,np.nan,np.nan,2],\n",
        "     [np.nan,1,np.nan,3,np.nan,8],\n",
        "     [np.nan,np.nan,np.nan,np.nan,np.nan,np.nan]])"
      ]
    },
    {
      "cell_type": "code",
      "execution_count": 3,
      "metadata": {
        "colab": {
          "base_uri": "https://localhost:8080/",
          "height": 238
        },
        "id": "bEm-RCG5rRjb",
        "outputId": "ebca20d4-b731-41c1-bbcb-849dfe653c67"
      },
      "outputs": [
        {
          "data": {
            "text/html": [
              "<div>\n",
              "<style scoped>\n",
              "    .dataframe tbody tr th:only-of-type {\n",
              "        vertical-align: middle;\n",
              "    }\n",
              "\n",
              "    .dataframe tbody tr th {\n",
              "        vertical-align: top;\n",
              "    }\n",
              "\n",
              "    .dataframe thead th {\n",
              "        text-align: right;\n",
              "    }\n",
              "</style>\n",
              "<table border=\"1\" class=\"dataframe\">\n",
              "  <thead>\n",
              "    <tr style=\"text-align: right;\">\n",
              "      <th></th>\n",
              "      <th>0</th>\n",
              "      <th>1</th>\n",
              "      <th>2</th>\n",
              "      <th>3</th>\n",
              "      <th>4</th>\n",
              "      <th>5</th>\n",
              "    </tr>\n",
              "  </thead>\n",
              "  <tbody>\n",
              "    <tr>\n",
              "      <th>0</th>\n",
              "      <td>NaN</td>\n",
              "      <td>5.0</td>\n",
              "      <td>1.0</td>\n",
              "      <td>NaN</td>\n",
              "      <td>NaN</td>\n",
              "      <td>NaN</td>\n",
              "    </tr>\n",
              "    <tr>\n",
              "      <th>1</th>\n",
              "      <td>NaN</td>\n",
              "      <td>NaN</td>\n",
              "      <td>4.0</td>\n",
              "      <td>6.0</td>\n",
              "      <td>NaN</td>\n",
              "      <td>NaN</td>\n",
              "    </tr>\n",
              "    <tr>\n",
              "      <th>2</th>\n",
              "      <td>NaN</td>\n",
              "      <td>NaN</td>\n",
              "      <td>NaN</td>\n",
              "      <td>7.0</td>\n",
              "      <td>2.0</td>\n",
              "      <td>NaN</td>\n",
              "    </tr>\n",
              "    <tr>\n",
              "      <th>3</th>\n",
              "      <td>NaN</td>\n",
              "      <td>NaN</td>\n",
              "      <td>NaN</td>\n",
              "      <td>NaN</td>\n",
              "      <td>NaN</td>\n",
              "      <td>2.0</td>\n",
              "    </tr>\n",
              "    <tr>\n",
              "      <th>4</th>\n",
              "      <td>NaN</td>\n",
              "      <td>1.0</td>\n",
              "      <td>NaN</td>\n",
              "      <td>3.0</td>\n",
              "      <td>NaN</td>\n",
              "      <td>8.0</td>\n",
              "    </tr>\n",
              "    <tr>\n",
              "      <th>5</th>\n",
              "      <td>NaN</td>\n",
              "      <td>NaN</td>\n",
              "      <td>NaN</td>\n",
              "      <td>NaN</td>\n",
              "      <td>NaN</td>\n",
              "      <td>NaN</td>\n",
              "    </tr>\n",
              "  </tbody>\n",
              "</table>\n",
              "</div>"
            ],
            "text/plain": [
              "    0    1    2    3    4    5\n",
              "0 NaN  5.0  1.0  NaN  NaN  NaN\n",
              "1 NaN  NaN  4.0  6.0  NaN  NaN\n",
              "2 NaN  NaN  NaN  7.0  2.0  NaN\n",
              "3 NaN  NaN  NaN  NaN  NaN  2.0\n",
              "4 NaN  1.0  NaN  3.0  NaN  8.0\n",
              "5 NaN  NaN  NaN  NaN  NaN  NaN"
            ]
          },
          "metadata": {},
          "output_type": "display_data"
        }
      ],
      "source": [
        "display(network)"
      ]
    },
    {
      "cell_type": "markdown",
      "metadata": {},
      "source": [
        "## Djikstra's Algorithm"
      ]
    },
    {
      "cell_type": "code",
      "execution_count": 4,
      "metadata": {
        "id": "-j-9SA98sHvt"
      },
      "outputs": [],
      "source": [
        "# Initialize the temporary and permanent labels for optimal costs\n",
        "permanent = pd.Series([0,np.nan,np.nan,np.nan,np.nan,np.nan])\n",
        "temp = pd.Series([np.nan,np.nan,np.nan,np.nan,np.nan,np.nan])"
      ]
    },
    {
      "cell_type": "code",
      "execution_count": 5,
      "metadata": {
        "colab": {
          "base_uri": "https://localhost:8080/"
        },
        "id": "n7BrpHsoyS71",
        "outputId": "7cfdd919-5ab2-4aba-bb17-9a400119aa08"
      },
      "outputs": [
        {
          "name": "stdout",
          "output_type": "stream",
          "text": [
            "Iteration 1 permanent costs\n",
            "0    0.0\n",
            "1    NaN\n",
            "2    1.0\n",
            "3    NaN\n",
            "4    NaN\n",
            "5    NaN\n",
            "dtype: float64\n",
            "Iteration 2 permanent costs\n",
            "0    0.0\n",
            "1    NaN\n",
            "2    1.0\n",
            "3    NaN\n",
            "4    3.0\n",
            "5    NaN\n",
            "dtype: float64\n",
            "Iteration 3 permanent costs\n",
            "0    0.0\n",
            "1    4.0\n",
            "2    1.0\n",
            "3    NaN\n",
            "4    3.0\n",
            "5    NaN\n",
            "dtype: float64\n",
            "Iteration 4 permanent costs\n",
            "0    0.0\n",
            "1    4.0\n",
            "2    1.0\n",
            "3    6.0\n",
            "4    3.0\n",
            "5    NaN\n",
            "dtype: float64\n",
            "Iteration 5 permanent costs\n",
            "0    0.0\n",
            "1    4.0\n",
            "2    1.0\n",
            "3    6.0\n",
            "4    3.0\n",
            "5    8.0\n",
            "dtype: float64\n"
          ]
        }
      ],
      "source": [
        "previousPermanentNodeIndex = 0\n",
        "iteration = 1\n",
        "\n",
        "while permanent.isnull().values.any():\n",
        "    \n",
        "    # Print iteration number\n",
        "    print(f'Iteration {iteration} permanent costs')\n",
        "\n",
        "    # Calculate the new possible node costs using the previous permanent node\n",
        "    newNodeCosts = network.iloc[previousPermanentNodeIndex] + permanent[previousPermanentNodeIndex]\n",
        "\n",
        "    # Find min between new possible node costs and temporary costs, call it calcCosts\n",
        "    calcCosts = np.fmin(newNodeCosts, temp)\n",
        "\n",
        "    # Find min of the calcCosts and the associated node, make the node\n",
        "    # and the cost permanent\n",
        "    newMin = np.nanmin(calcCosts)\n",
        "    newMinIndex = np.argmin(calcCosts)\n",
        "\n",
        "    # Update the permanent costs vector\n",
        "    permanent[newMinIndex] = newMin\n",
        "    print(permanent)\n",
        "\n",
        "    # Update the temporary costs vector\n",
        "    temp = np.fmin(calcCosts, temp)\n",
        "    # Make sure that any permanent nodes are't included\n",
        "    temp[permanent.notna()] = np.nan\n",
        "\n",
        "    # Update the previousPermanentNodeIndex\n",
        "    previousPermanentNodeIndex = newMinIndex\n",
        "\n",
        "    # Update iteration for display purposes\n",
        "    iteration += 1"
      ]
    },
    {
      "cell_type": "markdown",
      "metadata": {},
      "source": [
        "## Bellman-Ford Algorithm"
      ]
    },
    {
      "cell_type": "code",
      "execution_count": 6,
      "metadata": {},
      "outputs": [
        {
          "name": "stdout",
          "output_type": "stream",
          "text": [
            "Iteration 1\n",
            "0     0.0\n",
            "1     4.0\n",
            "2     1.0\n",
            "3     6.0\n",
            "4     3.0\n",
            "5    10.0\n",
            "dtype: float64\n",
            "Iteration 2\n",
            "0    0.0\n",
            "1    4.0\n",
            "2    1.0\n",
            "3    6.0\n",
            "4    3.0\n",
            "5    8.0\n",
            "dtype: float64\n",
            "Iteration 3\n",
            "0    0.0\n",
            "1    4.0\n",
            "2    1.0\n",
            "3    6.0\n",
            "4    3.0\n",
            "5    8.0\n",
            "dtype: float64\n",
            "The node costs have converged\n"
          ]
        }
      ],
      "source": [
        "# Initialize costs vector\n",
        "nodeCosts = pd.Series([0, np.nan, np.nan, np.nan, np.nan, np.nan])\n",
        "previousCosts = pd.Series([np.nan, np.nan, np.nan, np.nan, np.nan, np.nan])\n",
        "\n",
        "# Iterate the amount of nodes in the network\n",
        "# While Bellman-Ford only needs V - 1 iterations, we run V \n",
        "for i in range(len(nodeCosts)):\n",
        "    \n",
        "    # Check for negative cycle, detected if i reaches the Vth iteration\n",
        "    if i == len(nodeCosts):\n",
        "        print(\"There was a negative cycle in the network\")\n",
        "    else:\n",
        "        print(f\"Iteration {i+1}\")\n",
        "\n",
        "    # For each iteration, iterate through all nodes to see if a smaller\n",
        "    # cost can be found to a connecting/adjacent node\n",
        "    for nodeIndex in range(len(nodeCosts)):\n",
        "        checkCosts = network.iloc[nodeIndex] + nodeCosts[nodeIndex]\n",
        "        nodeCosts = np.fmin(checkCosts, nodeCosts)\n",
        "    print(nodeCosts)\n",
        "\n",
        "    # Check if nodeCosts was updated at all or not\n",
        "    # If not, the nodeCosts have converged and we can break the loop\n",
        "    if pd.Series.equals(nodeCosts, previousCosts):\n",
        "        print(\"The node costs have converged\")\n",
        "        break\n",
        "\n",
        "    # Update the previous costs vector for the next iteration\n",
        "    previousCosts = nodeCosts\n",
        "\n",
        "    "
      ]
    },
    {
      "cell_type": "markdown",
      "metadata": {},
      "source": [
        "## Floyd Algorithm"
      ]
    },
    {
      "cell_type": "markdown",
      "metadata": {},
      "source": [
        "Reinitialize network for distance matrix so that it includes 0 on the diagonal of the matrix"
      ]
    },
    {
      "cell_type": "code",
      "execution_count": 7,
      "metadata": {},
      "outputs": [
        {
          "data": {
            "text/html": [
              "<div>\n",
              "<style scoped>\n",
              "    .dataframe tbody tr th:only-of-type {\n",
              "        vertical-align: middle;\n",
              "    }\n",
              "\n",
              "    .dataframe tbody tr th {\n",
              "        vertical-align: top;\n",
              "    }\n",
              "\n",
              "    .dataframe thead th {\n",
              "        text-align: right;\n",
              "    }\n",
              "</style>\n",
              "<table border=\"1\" class=\"dataframe\">\n",
              "  <thead>\n",
              "    <tr style=\"text-align: right;\">\n",
              "      <th></th>\n",
              "      <th>0</th>\n",
              "      <th>1</th>\n",
              "      <th>2</th>\n",
              "      <th>3</th>\n",
              "      <th>4</th>\n",
              "      <th>5</th>\n",
              "    </tr>\n",
              "  </thead>\n",
              "  <tbody>\n",
              "    <tr>\n",
              "      <th>0</th>\n",
              "      <td>0.0</td>\n",
              "      <td>5.0</td>\n",
              "      <td>1.0</td>\n",
              "      <td>NaN</td>\n",
              "      <td>NaN</td>\n",
              "      <td>NaN</td>\n",
              "    </tr>\n",
              "    <tr>\n",
              "      <th>1</th>\n",
              "      <td>NaN</td>\n",
              "      <td>0.0</td>\n",
              "      <td>4.0</td>\n",
              "      <td>6.0</td>\n",
              "      <td>NaN</td>\n",
              "      <td>NaN</td>\n",
              "    </tr>\n",
              "    <tr>\n",
              "      <th>2</th>\n",
              "      <td>NaN</td>\n",
              "      <td>NaN</td>\n",
              "      <td>0.0</td>\n",
              "      <td>7.0</td>\n",
              "      <td>2.0</td>\n",
              "      <td>NaN</td>\n",
              "    </tr>\n",
              "    <tr>\n",
              "      <th>3</th>\n",
              "      <td>NaN</td>\n",
              "      <td>NaN</td>\n",
              "      <td>NaN</td>\n",
              "      <td>0.0</td>\n",
              "      <td>NaN</td>\n",
              "      <td>2.0</td>\n",
              "    </tr>\n",
              "    <tr>\n",
              "      <th>4</th>\n",
              "      <td>NaN</td>\n",
              "      <td>1.0</td>\n",
              "      <td>NaN</td>\n",
              "      <td>3.0</td>\n",
              "      <td>0.0</td>\n",
              "      <td>8.0</td>\n",
              "    </tr>\n",
              "    <tr>\n",
              "      <th>5</th>\n",
              "      <td>NaN</td>\n",
              "      <td>NaN</td>\n",
              "      <td>NaN</td>\n",
              "      <td>NaN</td>\n",
              "      <td>NaN</td>\n",
              "      <td>0.0</td>\n",
              "    </tr>\n",
              "  </tbody>\n",
              "</table>\n",
              "</div>"
            ],
            "text/plain": [
              "     0    1    2    3    4    5\n",
              "0  0.0  5.0  1.0  NaN  NaN  NaN\n",
              "1  NaN  0.0  4.0  6.0  NaN  NaN\n",
              "2  NaN  NaN  0.0  7.0  2.0  NaN\n",
              "3  NaN  NaN  NaN  0.0  NaN  2.0\n",
              "4  NaN  1.0  NaN  3.0  0.0  8.0\n",
              "5  NaN  NaN  NaN  NaN  NaN  0.0"
            ]
          },
          "metadata": {},
          "output_type": "display_data"
        }
      ],
      "source": [
        "distances = pd.DataFrame(\n",
        "    [[0,5,1,np.nan,np.nan,np.nan],\n",
        "     [np.nan,0,4,6,np.nan,np.nan],\n",
        "     [np.nan,np.nan,0,7,2,np.nan],\n",
        "     [np.nan,np.nan,np.nan,0,np.nan,2],\n",
        "     [np.nan,1,np.nan,3,0,8],\n",
        "     [np.nan,np.nan,np.nan,np.nan,np.nan,0]])\n",
        "\n",
        "display(distances)"
      ]
    },
    {
      "cell_type": "code",
      "execution_count": 8,
      "metadata": {},
      "outputs": [
        {
          "name": "stderr",
          "output_type": "stream",
          "text": [
            "/var/folders/v_/lft8__tj6fd561d9kywt6m21d_dv91/T/ipykernel_48581/2146301407.py:8: RuntimeWarning: All-NaN axis encountered\n",
            "  distances.loc[startNode,endNode] = np.nanmin([distances.loc[startNode,endNode], distances.loc[startNode,intermediateNode] + distances.loc[intermediateNode,endNode]])\n"
          ]
        },
        {
          "data": {
            "text/html": [
              "<div>\n",
              "<style scoped>\n",
              "    .dataframe tbody tr th:only-of-type {\n",
              "        vertical-align: middle;\n",
              "    }\n",
              "\n",
              "    .dataframe tbody tr th {\n",
              "        vertical-align: top;\n",
              "    }\n",
              "\n",
              "    .dataframe thead th {\n",
              "        text-align: right;\n",
              "    }\n",
              "</style>\n",
              "<table border=\"1\" class=\"dataframe\">\n",
              "  <thead>\n",
              "    <tr style=\"text-align: right;\">\n",
              "      <th></th>\n",
              "      <th>0</th>\n",
              "      <th>1</th>\n",
              "      <th>2</th>\n",
              "      <th>3</th>\n",
              "      <th>4</th>\n",
              "      <th>5</th>\n",
              "    </tr>\n",
              "  </thead>\n",
              "  <tbody>\n",
              "    <tr>\n",
              "      <th>0</th>\n",
              "      <td>0.0</td>\n",
              "      <td>4.0</td>\n",
              "      <td>1.0</td>\n",
              "      <td>6.0</td>\n",
              "      <td>3.0</td>\n",
              "      <td>8.0</td>\n",
              "    </tr>\n",
              "    <tr>\n",
              "      <th>1</th>\n",
              "      <td>NaN</td>\n",
              "      <td>0.0</td>\n",
              "      <td>4.0</td>\n",
              "      <td>6.0</td>\n",
              "      <td>6.0</td>\n",
              "      <td>8.0</td>\n",
              "    </tr>\n",
              "    <tr>\n",
              "      <th>2</th>\n",
              "      <td>NaN</td>\n",
              "      <td>3.0</td>\n",
              "      <td>0.0</td>\n",
              "      <td>5.0</td>\n",
              "      <td>2.0</td>\n",
              "      <td>7.0</td>\n",
              "    </tr>\n",
              "    <tr>\n",
              "      <th>3</th>\n",
              "      <td>NaN</td>\n",
              "      <td>NaN</td>\n",
              "      <td>NaN</td>\n",
              "      <td>0.0</td>\n",
              "      <td>NaN</td>\n",
              "      <td>2.0</td>\n",
              "    </tr>\n",
              "    <tr>\n",
              "      <th>4</th>\n",
              "      <td>NaN</td>\n",
              "      <td>1.0</td>\n",
              "      <td>5.0</td>\n",
              "      <td>3.0</td>\n",
              "      <td>0.0</td>\n",
              "      <td>5.0</td>\n",
              "    </tr>\n",
              "    <tr>\n",
              "      <th>5</th>\n",
              "      <td>NaN</td>\n",
              "      <td>NaN</td>\n",
              "      <td>NaN</td>\n",
              "      <td>NaN</td>\n",
              "      <td>NaN</td>\n",
              "      <td>0.0</td>\n",
              "    </tr>\n",
              "  </tbody>\n",
              "</table>\n",
              "</div>"
            ],
            "text/plain": [
              "     0    1    2    3    4    5\n",
              "0  0.0  4.0  1.0  6.0  3.0  8.0\n",
              "1  NaN  0.0  4.0  6.0  6.0  8.0\n",
              "2  NaN  3.0  0.0  5.0  2.0  7.0\n",
              "3  NaN  NaN  NaN  0.0  NaN  2.0\n",
              "4  NaN  1.0  5.0  3.0  0.0  5.0\n",
              "5  NaN  NaN  NaN  NaN  NaN  0.0"
            ]
          },
          "metadata": {},
          "output_type": "display_data"
        }
      ],
      "source": [
        "# Iterate through each possible intermediate node\n",
        "for intermediateNode in range(distances.shape[0]):\n",
        "    # Iterate through each possible start node\n",
        "    for startNode in range(distances.shape[0]):\n",
        "        # Iterate through each possible end node\n",
        "        for endNode in range(distances.shape[1]):\n",
        "            # Update the distance if a shorter path is found\n",
        "            distances.loc[startNode,endNode] = np.nanmin([distances.loc[startNode,endNode], distances.loc[startNode,intermediateNode] + distances.loc[intermediateNode,endNode]])\n",
        "\n",
        "display(distances)\n"
      ]
    }
  ],
  "metadata": {
    "colab": {
      "authorship_tag": "ABX9TyNzxHPIjKFd4KtokkRzMWlZ",
      "include_colab_link": true,
      "provenance": []
    },
    "kernelspec": {
      "display_name": ".venv",
      "language": "python",
      "name": "python3"
    },
    "language_info": {
      "codemirror_mode": {
        "name": "ipython",
        "version": 3
      },
      "file_extension": ".py",
      "mimetype": "text/x-python",
      "name": "python",
      "nbconvert_exporter": "python",
      "pygments_lexer": "ipython3",
      "version": "3.13.2"
    }
  },
  "nbformat": 4,
  "nbformat_minor": 0
}
