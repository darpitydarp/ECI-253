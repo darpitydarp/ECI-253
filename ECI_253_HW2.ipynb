{
  "cells": [
    {
      "cell_type": "code",
      "execution_count": 2,
      "metadata": {
        "id": "uUA-DakOqqs7"
      },
      "outputs": [],
      "source": [
        "import pandas as pd\n",
        "import numpy as np"
      ]
    },
    {
      "cell_type": "markdown",
      "metadata": {
        "id": "iZmcGjE7p91O"
      },
      "source": [
        "# Initialization"
      ]
    },
    {
      "cell_type": "markdown",
      "metadata": {
        "id": "UwU-9_Yfprs0"
      },
      "source": [
        "Create the base network as a matrix of costs, where a cost of NaN represents a non-adjacent node and a cost of 0 represents cost to the same node"
      ]
    },
    {
      "cell_type": "code",
      "execution_count": 3,
      "metadata": {
        "id": "_N6YQh19pGgE"
      },
      "outputs": [],
      "source": [
        "network = pd.DataFrame(\n",
        "    [[np.nan,5,1,np.nan,np.nan,np.nan],\n",
        "     [np.nan,np.nan,4,6,np.nan,np.nan],\n",
        "     [np.nan,np.nan,np.nan,7,2,np.nan],\n",
        "     [np.nan,np.nan,np.nan,np.nan,np.nan,2],\n",
        "     [np.nan,1,np.nan,3,np.nan,8],\n",
        "     [np.nan,np.nan,np.nan,np.nan,np.nan,np.nan]])"
      ]
    },
    {
      "cell_type": "code",
      "execution_count": 4,
      "metadata": {
        "colab": {
          "base_uri": "https://localhost:8080/",
          "height": 238
        },
        "id": "bEm-RCG5rRjb",
        "outputId": "ebca20d4-b731-41c1-bbcb-849dfe653c67"
      },
      "outputs": [
        {
          "data": {
            "text/html": [
              "<div>\n",
              "<style scoped>\n",
              "    .dataframe tbody tr th:only-of-type {\n",
              "        vertical-align: middle;\n",
              "    }\n",
              "\n",
              "    .dataframe tbody tr th {\n",
              "        vertical-align: top;\n",
              "    }\n",
              "\n",
              "    .dataframe thead th {\n",
              "        text-align: right;\n",
              "    }\n",
              "</style>\n",
              "<table border=\"1\" class=\"dataframe\">\n",
              "  <thead>\n",
              "    <tr style=\"text-align: right;\">\n",
              "      <th></th>\n",
              "      <th>0</th>\n",
              "      <th>1</th>\n",
              "      <th>2</th>\n",
              "      <th>3</th>\n",
              "      <th>4</th>\n",
              "      <th>5</th>\n",
              "    </tr>\n",
              "  </thead>\n",
              "  <tbody>\n",
              "    <tr>\n",
              "      <th>0</th>\n",
              "      <td>NaN</td>\n",
              "      <td>5.0</td>\n",
              "      <td>1.0</td>\n",
              "      <td>NaN</td>\n",
              "      <td>NaN</td>\n",
              "      <td>NaN</td>\n",
              "    </tr>\n",
              "    <tr>\n",
              "      <th>1</th>\n",
              "      <td>NaN</td>\n",
              "      <td>NaN</td>\n",
              "      <td>4.0</td>\n",
              "      <td>6.0</td>\n",
              "      <td>NaN</td>\n",
              "      <td>NaN</td>\n",
              "    </tr>\n",
              "    <tr>\n",
              "      <th>2</th>\n",
              "      <td>NaN</td>\n",
              "      <td>NaN</td>\n",
              "      <td>NaN</td>\n",
              "      <td>7.0</td>\n",
              "      <td>2.0</td>\n",
              "      <td>NaN</td>\n",
              "    </tr>\n",
              "    <tr>\n",
              "      <th>3</th>\n",
              "      <td>NaN</td>\n",
              "      <td>NaN</td>\n",
              "      <td>NaN</td>\n",
              "      <td>NaN</td>\n",
              "      <td>NaN</td>\n",
              "      <td>2.0</td>\n",
              "    </tr>\n",
              "    <tr>\n",
              "      <th>4</th>\n",
              "      <td>NaN</td>\n",
              "      <td>1.0</td>\n",
              "      <td>NaN</td>\n",
              "      <td>3.0</td>\n",
              "      <td>NaN</td>\n",
              "      <td>8.0</td>\n",
              "    </tr>\n",
              "    <tr>\n",
              "      <th>5</th>\n",
              "      <td>NaN</td>\n",
              "      <td>NaN</td>\n",
              "      <td>NaN</td>\n",
              "      <td>NaN</td>\n",
              "      <td>NaN</td>\n",
              "      <td>NaN</td>\n",
              "    </tr>\n",
              "  </tbody>\n",
              "</table>\n",
              "</div>"
            ],
            "text/plain": [
              "    0    1    2    3    4    5\n",
              "0 NaN  5.0  1.0  NaN  NaN  NaN\n",
              "1 NaN  NaN  4.0  6.0  NaN  NaN\n",
              "2 NaN  NaN  NaN  7.0  2.0  NaN\n",
              "3 NaN  NaN  NaN  NaN  NaN  2.0\n",
              "4 NaN  1.0  NaN  3.0  NaN  8.0\n",
              "5 NaN  NaN  NaN  NaN  NaN  NaN"
            ]
          },
          "metadata": {},
          "output_type": "display_data"
        }
      ],
      "source": [
        "display(network)"
      ]
    },
    {
      "cell_type": "code",
      "execution_count": 5,
      "metadata": {
        "id": "-j-9SA98sHvt"
      },
      "outputs": [],
      "source": [
        "# Initialize the temporary and permanent labels for optimal costs\n",
        "permanent = pd.Series([0,np.nan,np.nan,np.nan,np.nan,np.nan])\n",
        "temp = network.iloc[0]"
      ]
    },
    {
      "cell_type": "code",
      "execution_count": null,
      "metadata": {
        "colab": {
          "base_uri": "https://localhost:8080/"
        },
        "id": "n7BrpHsoyS71",
        "outputId": "7cfdd919-5ab2-4aba-bb17-9a400119aa08"
      },
      "outputs": [
        {
          "name": "stdout",
          "output_type": "stream",
          "text": [
            "0    NaN\n",
            "1    5.0\n",
            "2    1.0\n",
            "3    NaN\n",
            "4    NaN\n",
            "5    NaN\n",
            "Name: 0, dtype: float64\n",
            "0    NaN\n",
            "1    5.0\n",
            "2    1.0\n",
            "3    NaN\n",
            "4    NaN\n",
            "5    NaN\n",
            "Name: 0, dtype: float64\n"
          ]
        }
      ],
      "source": [
        "previous_permanent_node_index = 0\n",
        "\n",
        "new_node_costs = network.iloc[previous_permanent_node_index] + permanent[previous_permanent_node_index]\n",
        "print(new_node_costs)\n",
        "\n",
        "print(temp)\n",
        "# find min between new node costs and temporary, call it calc_costs\n",
        "calc_costs = pd.Series(np.nan, index = np.arange(len(temp)))\n",
        "for i in range(len(calc_costs)):\n",
        "  calc_costs[i] = min(new_node_costs[i],temp[i])\n",
        "print(calc_costs)\n",
        "\n",
        "# find min of the calc_costs and the associated node, make the node\n",
        "# and the cost permanent\n",
        "np.nanmin(calc_costs)\n",
        "# new_perm_node =\n",
        "# print(new_perm_node)"
      ]
    },
    {
      "cell_type": "code",
      "execution_count": null,
      "metadata": {},
      "outputs": [],
      "source": [
        "# previous_permanent_node_index = 0\n",
        "\n",
        "# # keep iterating if there is a permanent value not found yet\n",
        "# while permanent.isnull().values.any():\n",
        "\n",
        "#   # # for each node that's still temporary, compare cost of temporary vs.\n",
        "#   # # previously found permanent value + arc  cost to that temporary node\n",
        "#   # for ending_node in np.argwhere(np.isnan(permanent)):\n",
        "\n",
        "#     # find permanent value + arc  cost to that temporary node\n",
        "#     new_node_costs = network.iloc[previous_permanent_node_index] + permanent[previous_permanent_node_index]\n",
        "#     print(new_node_costs)\n",
        "\n",
        "#     print(temp)\n",
        "#     # find min between new node costs and temporary, call it calc_costs\n",
        "#     calc_costs = pd.Series(np.nan, index = np.arange(len(temp)))\n",
        "#     for i in range(len(calc_costs)):\n",
        "#       calc_costs[i] = min(new_node_costs[i],temp[i])\n",
        "#     print(calc_costs)\n",
        "\n",
        "#     # find min of the calc_costs and the associated node, make the node\n",
        "#     # and the cost permanent\n"
      ]
    }
  ],
  "metadata": {
    "colab": {
      "authorship_tag": "ABX9TyNzxHPIjKFd4KtokkRzMWlZ",
      "include_colab_link": true,
      "provenance": []
    },
    "kernelspec": {
      "display_name": ".venv",
      "language": "python",
      "name": "python3"
    },
    "language_info": {
      "codemirror_mode": {
        "name": "ipython",
        "version": 3
      },
      "file_extension": ".py",
      "mimetype": "text/x-python",
      "name": "python",
      "nbconvert_exporter": "python",
      "pygments_lexer": "ipython3",
      "version": "3.13.2"
    }
  },
  "nbformat": 4,
  "nbformat_minor": 0
}
