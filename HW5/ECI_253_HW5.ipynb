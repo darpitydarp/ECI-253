{
 "cells": [
  {
   "cell_type": "code",
   "execution_count": 1,
   "id": "b60f9b02",
   "metadata": {},
   "outputs": [],
   "source": [
    "import gurobipy as gp\n",
    "from gurobipy import GRB"
   ]
  },
  {
   "cell_type": "markdown",
   "id": "3654f35b",
   "metadata": {},
   "source": [
    "### Set variables"
   ]
  },
  {
   "cell_type": "code",
   "execution_count": 2,
   "id": "67dc0ba0",
   "metadata": {},
   "outputs": [],
   "source": [
    "# Default crop yields\n",
    "wheatYield = 2.5\n",
    "cornYield = 3\n",
    "beetYield = 20\n",
    "\n",
    "# Crop planting costs\n",
    "wheatCost = 150\n",
    "cornCost = 230\n",
    "beetCost = 260\n",
    "\n",
    "# Crop selling prices\n",
    "wheatSell = 170\n",
    "cornSell = 150\n",
    "beetSellHigh = 36\n",
    "beetSellLow = 10\n",
    "\n",
    "# Crop purchase prices\n",
    "wheatPurchase = 238\n",
    "cornPurchase = 210"
   ]
  },
  {
   "cell_type": "markdown",
   "id": "e205753a",
   "metadata": {},
   "source": [
    "# Solve for Perfect Information"
   ]
  },
  {
   "cell_type": "markdown",
   "id": "fc354527",
   "metadata": {},
   "source": [
    "#### Low Yield"
   ]
  },
  {
   "cell_type": "code",
   "execution_count": null,
   "id": "2b7f56e6",
   "metadata": {},
   "outputs": [
    {
     "name": "stdout",
     "output_type": "stream",
     "text": [
      "Set parameter LogToConsole to value 0\n",
      "Wheat Acres 100\n",
      "Corn Acres 25\n",
      "Beet Acres 375\n",
      "Wheat Sold 0\n",
      "Corn Sold 0\n",
      "Beet Sold High Price 6000\n",
      "Beet Sold Low Price 0\n",
      "Wheat Purchased 0\n",
      "Corn Purchased 180\n",
      "Obj: -59950\n"
     ]
    }
   ],
   "source": [
    "yieldModifier = 0.8\n",
    "\n",
    "# Create new model\n",
    "m = gp.Model(\"Low Yield\")\n",
    "m.Params.LogToConsole = 0\n",
    "\n",
    "# Create variables\n",
    "x1 = m.addVar(vtype=gp.GRB.CONTINUOUS, name=\"Wheat Acres\", lb=0)\n",
    "x2 = m.addVar(vtype=gp.GRB.CONTINUOUS, name=\"Corn Acres\", lb=0)\n",
    "x3 = m.addVar(vtype=gp.GRB.CONTINUOUS, name=\"Beet Acres\", lb=0)\n",
    "w1 = m.addVar(vtype=gp.GRB.CONTINUOUS, name=\"Wheat Sold\", lb=0)\n",
    "w2 = m.addVar(vtype=gp.GRB.CONTINUOUS, name=\"Corn Sold\", lb=0)\n",
    "w3 = m.addVar(vtype=gp.GRB.CONTINUOUS, name=\"Beet Sold High Price\", lb=0)\n",
    "w4 = m.addVar(vtype=gp.GRB.CONTINUOUS, name=\"Beet Sold Low Price\", lb=0)\n",
    "y1 = m.addVar(vtype=gp.GRB.CONTINUOUS, name=\"Wheat Purchased\", lb=0)\n",
    "y2 = m.addVar(vtype=gp.GRB.CONTINUOUS, name=\"Corn Purchased\", lb=0)\n",
    "\n",
    "# Constraints\n",
    "m.addConstr(x1 + x2 + x3 <= 500, \"Land Limit\")\n",
    "m.addConstr(yieldModifier * wheatYield * x1 + y1 >= 200 + w1, \"Wheat Yield Relationship\")\n",
    "m.addConstr(yieldModifier * cornYield * x2 + y2 >= 240 + w2, \"Corn Yield Relationship\")\n",
    "m.addConstr(yieldModifier * beetYield * x3 >= w3 + w4, \"Beet Yield Relationship\")\n",
    "m.addConstr(w3 <= 6000, \"Beet High Price Limit\")\n",
    "\n",
    "# Objective function\n",
    "m.setObjective(150*x1 + 230*x2 + 260*x3 + 238*y1 + 210*y2 - 170*w1 - 150*w2 - 36*w3 - 10*w4, GRB.MINIMIZE)\n",
    "\n",
    "# Optimize model\n",
    "m.optimize()\n",
    "\n",
    "# Print variable values\n",
    "for v in m.getVars():\n",
    "    print('%s %g' % (v.VarName, v.X))\n",
    "\n",
    "# Print objective value\n",
    "print('Obj: %g' % m.ObjVal)"
   ]
  },
  {
   "cell_type": "markdown",
   "id": "72e2284c",
   "metadata": {},
   "source": [
    "### Normal Yield"
   ]
  },
  {
   "cell_type": "code",
   "execution_count": 5,
   "id": "e88fcc09",
   "metadata": {},
   "outputs": [
    {
     "name": "stdout",
     "output_type": "stream",
     "text": [
      "Set parameter LogToConsole to value 0\n",
      "Wheat Acres 120\n",
      "Corn Acres 80\n",
      "Beet Acres 300\n",
      "Wheat Sold 100\n",
      "Corn Sold 0\n",
      "Beet Sold High Price 6000\n",
      "Beet Sold Low Price 0\n",
      "Wheat Purchased 0\n",
      "Corn Purchased 0\n",
      "Obj: -118600\n"
     ]
    }
   ],
   "source": [
    "yieldModifier = 1\n",
    "\n",
    "# Create new model\n",
    "m = gp.Model(\"Normal Yield\")\n",
    "m.Params.LogToConsole = 0\n",
    "\n",
    "# Create variables\n",
    "x1 = m.addVar(vtype=gp.GRB.CONTINUOUS, name=\"Wheat Acres\", lb=0)\n",
    "x2 = m.addVar(vtype=gp.GRB.CONTINUOUS, name=\"Corn Acres\", lb=0)\n",
    "x3 = m.addVar(vtype=gp.GRB.CONTINUOUS, name=\"Beet Acres\", lb=0)\n",
    "w1 = m.addVar(vtype=gp.GRB.CONTINUOUS, name=\"Wheat Sold\", lb=0)\n",
    "w2 = m.addVar(vtype=gp.GRB.CONTINUOUS, name=\"Corn Sold\", lb=0)\n",
    "w3 = m.addVar(vtype=gp.GRB.CONTINUOUS, name=\"Beet Sold High Price\", lb=0)\n",
    "w4 = m.addVar(vtype=gp.GRB.CONTINUOUS, name=\"Beet Sold Low Price\", lb=0)\n",
    "y1 = m.addVar(vtype=gp.GRB.CONTINUOUS, name=\"Wheat Purchased\", lb=0)\n",
    "y2 = m.addVar(vtype=gp.GRB.CONTINUOUS, name=\"Corn Purchased\", lb=0)\n",
    "\n",
    "# Constraints\n",
    "m.addConstr(x1 + x2 + x3 <= 500, \"Land Limit\")\n",
    "m.addConstr(yieldModifier * wheatYield * x1 + y1 >= 200 + w1, \"Wheat Yield Relationship\")\n",
    "m.addConstr(yieldModifier * cornYield * x2 + y2 >= 240 + w2, \"Corn Yield Relationship\")\n",
    "m.addConstr(yieldModifier * beetYield * x3 >= w3 + w4, \"Beet Yield Relationship\")\n",
    "m.addConstr(w3 <= 6000, \"Beet High Price Limit\")\n",
    "\n",
    "# Objective function\n",
    "m.setObjective(150*x1 + 230*x2 + 260*x3 + 238*y1 + 210*y2 - 170*w1 - 150*w2 - 36*w3 - 10*w4, GRB.MINIMIZE)\n",
    "\n",
    "# Optimize model\n",
    "m.optimize()\n",
    "\n",
    "# Print variable values\n",
    "for v in m.getVars():\n",
    "    print('%s %g' % (v.VarName, v.X))\n",
    "\n",
    "# Print objective value\n",
    "print('Obj: %g' % m.ObjVal)"
   ]
  },
  {
   "cell_type": "markdown",
   "id": "1fd26074",
   "metadata": {},
   "source": [
    "### High Yield"
   ]
  },
  {
   "cell_type": "code",
   "execution_count": 6,
   "id": "1fef206e",
   "metadata": {},
   "outputs": [
    {
     "name": "stdout",
     "output_type": "stream",
     "text": [
      "Set parameter LogToConsole to value 0\n",
      "Wheat Acres 183.333\n",
      "Corn Acres 66.6667\n",
      "Beet Acres 250\n",
      "Wheat Sold 350\n",
      "Corn Sold 0\n",
      "Beet Sold High Price 6000\n",
      "Beet Sold Low Price 0\n",
      "Wheat Purchased 0\n",
      "Corn Purchased 0\n",
      "Obj: -167667\n"
     ]
    }
   ],
   "source": [
    "yieldModifier = 1.2\n",
    "\n",
    "# Create new model\n",
    "m = gp.Model(\"High Yield\")\n",
    "m.Params.LogToConsole = 0\n",
    "\n",
    "# Create variables\n",
    "x1 = m.addVar(vtype=gp.GRB.CONTINUOUS, name=\"Wheat Acres\", lb=0)\n",
    "x2 = m.addVar(vtype=gp.GRB.CONTINUOUS, name=\"Corn Acres\", lb=0)\n",
    "x3 = m.addVar(vtype=gp.GRB.CONTINUOUS, name=\"Beet Acres\", lb=0)\n",
    "w1 = m.addVar(vtype=gp.GRB.CONTINUOUS, name=\"Wheat Sold\", lb=0)\n",
    "w2 = m.addVar(vtype=gp.GRB.CONTINUOUS, name=\"Corn Sold\", lb=0)\n",
    "w3 = m.addVar(vtype=gp.GRB.CONTINUOUS, name=\"Beet Sold High Price\", lb=0)\n",
    "w4 = m.addVar(vtype=gp.GRB.CONTINUOUS, name=\"Beet Sold Low Price\", lb=0)\n",
    "y1 = m.addVar(vtype=gp.GRB.CONTINUOUS, name=\"Wheat Purchased\", lb=0)\n",
    "y2 = m.addVar(vtype=gp.GRB.CONTINUOUS, name=\"Corn Purchased\", lb=0)\n",
    "\n",
    "# Constraints\n",
    "m.addConstr(x1 + x2 + x3 <= 500, \"Land Limit\")\n",
    "m.addConstr(yieldModifier * wheatYield * x1 + y1 >= 200 + w1, \"Wheat Yield Relationship\")\n",
    "m.addConstr(yieldModifier * cornYield * x2 + y2 >= 240 + w2, \"Corn Yield Relationship\")\n",
    "m.addConstr(yieldModifier * beetYield * x3 >= w3 + w4, \"Beet Yield Relationship\")\n",
    "m.addConstr(w3 <= 6000, \"Beet High Price Limit\")\n",
    "\n",
    "# Objective function\n",
    "m.setObjective(150*x1 + 230*x2 + 260*x3 + 238*y1 + 210*y2 - 170*w1 - 150*w2 - 36*w3 - 10*w4, GRB.MINIMIZE)\n",
    "\n",
    "# Optimize model\n",
    "m.optimize()\n",
    "\n",
    "# Print variable values\n",
    "for v in m.getVars():\n",
    "    print('%s %g' % (v.VarName, v.X))\n",
    "\n",
    "# Print objective value\n",
    "print('Obj: %g' % m.ObjVal)"
   ]
  },
  {
   "cell_type": "markdown",
   "id": "07b5fbd5",
   "metadata": {},
   "source": [
    "# Solve for Deterministic Model"
   ]
  },
  {
   "cell_type": "code",
   "execution_count": null,
   "id": "b0ffd59c",
   "metadata": {},
   "outputs": [],
   "source": []
  }
 ],
 "metadata": {
  "kernelspec": {
   "display_name": ".venv",
   "language": "python",
   "name": "python3"
  },
  "language_info": {
   "codemirror_mode": {
    "name": "ipython",
    "version": 3
   },
   "file_extension": ".py",
   "mimetype": "text/x-python",
   "name": "python",
   "nbconvert_exporter": "python",
   "pygments_lexer": "ipython3",
   "version": "3.13.2"
  }
 },
 "nbformat": 4,
 "nbformat_minor": 5
}
