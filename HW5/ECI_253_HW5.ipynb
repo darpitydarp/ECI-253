{
 "cells": [
  {
   "cell_type": "code",
   "execution_count": 1,
   "id": "b60f9b02",
   "metadata": {},
   "outputs": [],
   "source": [
    "import numpy as np\n",
    "import gurobipy as gp\n",
    "from gurobipy import GRB"
   ]
  },
  {
   "cell_type": "markdown",
   "id": "3654f35b",
   "metadata": {},
   "source": [
    "### Set variables"
   ]
  },
  {
   "cell_type": "code",
   "execution_count": 2,
   "id": "67dc0ba0",
   "metadata": {},
   "outputs": [],
   "source": [
    "# Default crop yields\n",
    "wheatYield = 2.5\n",
    "cornYield = 3\n",
    "beetYield = 20\n",
    "\n",
    "# Crop planting costs\n",
    "wheatCost = 150\n",
    "cornCost = 230\n",
    "beetCost = 260\n",
    "\n",
    "# Crop selling prices\n",
    "wheatSell = 170\n",
    "cornSell = 150\n",
    "beetSellHigh = 36\n",
    "beetSellLow = 10\n",
    "\n",
    "# Crop purchase prices\n",
    "wheatPurchase = 238\n",
    "cornPurchase = 210"
   ]
  },
  {
   "cell_type": "markdown",
   "id": "e205753a",
   "metadata": {},
   "source": [
    "# Solve for Perfect Information"
   ]
  },
  {
   "cell_type": "markdown",
   "id": "fc354527",
   "metadata": {},
   "source": [
    "#### Low Yield"
   ]
  },
  {
   "cell_type": "code",
   "execution_count": 3,
   "id": "e7845f17",
   "metadata": {},
   "outputs": [
    {
     "name": "stdout",
     "output_type": "stream",
     "text": [
      "Set parameter Username\n",
      "Set parameter LicenseID to value 2664310\n",
      "Academic license - for non-commercial use only - expires 2026-05-13\n",
      "Set parameter LogToConsole to value 0\n",
      "Wheat Acres 100\n",
      "Corn Acres 25\n",
      "Beet Acres 375\n",
      "Wheat Sold 0\n",
      "Corn Sold 0\n",
      "Beet Sold High Price 6000\n",
      "Beet Sold Low Price 0\n",
      "Wheat Purchased 0\n",
      "Corn Purchased 180\n",
      "Obj: -59950\n"
     ]
    }
   ],
   "source": [
    "yieldModifier = 0.8\n",
    "\n",
    "# Create new model\n",
    "lowYield = gp.Model(\"Low Yield\")\n",
    "lowYield.Params.LogToConsole = 0\n",
    "\n",
    "# Create variables\n",
    "x1 = lowYield.addVar(vtype=gp.GRB.CONTINUOUS, name=\"Wheat Acres\", lb=0)\n",
    "x2 = lowYield.addVar(vtype=gp.GRB.CONTINUOUS, name=\"Corn Acres\", lb=0)\n",
    "x3 = lowYield.addVar(vtype=gp.GRB.CONTINUOUS, name=\"Beet Acres\", lb=0)\n",
    "w1 = lowYield.addVar(vtype=gp.GRB.CONTINUOUS, name=\"Wheat Sold\", lb=0)\n",
    "w2 = lowYield.addVar(vtype=gp.GRB.CONTINUOUS, name=\"Corn Sold\", lb=0)\n",
    "w3 = lowYield.addVar(vtype=gp.GRB.CONTINUOUS, name=\"Beet Sold High Price\", lb=0)\n",
    "w4 = lowYield.addVar(vtype=gp.GRB.CONTINUOUS, name=\"Beet Sold Low Price\", lb=0)\n",
    "y1 = lowYield.addVar(vtype=gp.GRB.CONTINUOUS, name=\"Wheat Purchased\", lb=0)\n",
    "y2 = lowYield.addVar(vtype=gp.GRB.CONTINUOUS, name=\"Corn Purchased\", lb=0)\n",
    "\n",
    "# Constraints\n",
    "lowYield.addConstr(x1 + x2 + x3 <= 500, \"Land Limit\")\n",
    "lowYield.addConstr(yieldModifier * wheatYield * x1 + y1 >= 200 + w1, \"Wheat Yield Relationship\")\n",
    "lowYield.addConstr(yieldModifier * cornYield * x2 + y2 >= 240 + w2, \"Corn Yield Relationship\")\n",
    "lowYield.addConstr(yieldModifier * beetYield * x3 >= w3 + w4, \"Beet Yield Relationship\")\n",
    "lowYield.addConstr(w3 <= 6000, \"Beet High Price Limit\")\n",
    "\n",
    "# Objective function\n",
    "lowYield.setObjective(150*x1 + 230*x2 + 260*x3 + 238*y1 + 210*y2 - 170*w1 - 150*w2 - 36*w3 - 10*w4, GRB.MINIMIZE)\n",
    "\n",
    "# Optimize model\n",
    "lowYield.optimize()\n",
    "\n",
    "# Print variable values\n",
    "for v in lowYield.getVars():\n",
    "    print('%s %g' % (v.VarName, v.X))\n",
    "\n",
    "# Print objective value\n",
    "print('Obj: %g' % lowYield.ObjVal)"
   ]
  },
  {
   "cell_type": "markdown",
   "id": "72e2284c",
   "metadata": {},
   "source": [
    "### Normal Yield"
   ]
  },
  {
   "cell_type": "code",
   "execution_count": 4,
   "id": "94d45d20",
   "metadata": {},
   "outputs": [
    {
     "name": "stdout",
     "output_type": "stream",
     "text": [
      "Set parameter LogToConsole to value 0\n",
      "Wheat Acres 120\n",
      "Corn Acres 80\n",
      "Beet Acres 300\n",
      "Wheat Sold 100\n",
      "Corn Sold 0\n",
      "Beet Sold High Price 6000\n",
      "Beet Sold Low Price 0\n",
      "Wheat Purchased 0\n",
      "Corn Purchased 0\n",
      "Obj: -118600\n"
     ]
    }
   ],
   "source": [
    "yieldModifier = 1\n",
    "\n",
    "# Create new model\n",
    "normalYield = gp.Model(\"Normal Yield\")\n",
    "normalYield.Params.LogToConsole = 0\n",
    "\n",
    "# Create variables\n",
    "x1 = normalYield.addVar(vtype=gp.GRB.CONTINUOUS, name=\"Wheat Acres\", lb=0)\n",
    "x2 = normalYield.addVar(vtype=gp.GRB.CONTINUOUS, name=\"Corn Acres\", lb=0)\n",
    "x3 = normalYield.addVar(vtype=gp.GRB.CONTINUOUS, name=\"Beet Acres\", lb=0)\n",
    "w1 = normalYield.addVar(vtype=gp.GRB.CONTINUOUS, name=\"Wheat Sold\", lb=0)\n",
    "w2 = normalYield.addVar(vtype=gp.GRB.CONTINUOUS, name=\"Corn Sold\", lb=0)\n",
    "w3 = normalYield.addVar(vtype=gp.GRB.CONTINUOUS, name=\"Beet Sold High Price\", lb=0)\n",
    "w4 = normalYield.addVar(vtype=gp.GRB.CONTINUOUS, name=\"Beet Sold Low Price\", lb=0)\n",
    "y1 = normalYield.addVar(vtype=gp.GRB.CONTINUOUS, name=\"Wheat Purchased\", lb=0)\n",
    "y2 = normalYield.addVar(vtype=gp.GRB.CONTINUOUS, name=\"Corn Purchased\", lb=0)\n",
    "\n",
    "# Constraints\n",
    "normalYield.addConstr(x1 + x2 + x3 <= 500, \"Land Limit\")\n",
    "normalYield.addConstr(yieldModifier * wheatYield * x1 + y1 >= 200 + w1, \"Wheat Yield Relationship\")\n",
    "normalYield.addConstr(yieldModifier * cornYield * x2 + y2 >= 240 + w2, \"Corn Yield Relationship\")\n",
    "normalYield.addConstr(yieldModifier * beetYield * x3 >= w3 + w4, \"Beet Yield Relationship\")\n",
    "normalYield.addConstr(w3 <= 6000, \"Beet High Price Limit\")\n",
    "\n",
    "# Objective function\n",
    "normalYield.setObjective(150*x1 + 230*x2 + 260*x3 + 238*y1 + 210*y2 - 170*w1 - 150*w2 - 36*w3 - 10*w4, GRB.MINIMIZE)\n",
    "\n",
    "# Optimize model\n",
    "normalYield.optimize()\n",
    "\n",
    "# Print variable values\n",
    "for v in normalYield.getVars():\n",
    "    print('%s %g' % (v.VarName, v.X))\n",
    "\n",
    "# Print objective value\n",
    "print('Obj: %g' % normalYield.ObjVal)"
   ]
  },
  {
   "cell_type": "markdown",
   "id": "1fd26074",
   "metadata": {},
   "source": [
    "### High Yield"
   ]
  },
  {
   "cell_type": "code",
   "execution_count": 5,
   "id": "ee93d1e7",
   "metadata": {},
   "outputs": [
    {
     "name": "stdout",
     "output_type": "stream",
     "text": [
      "Set parameter LogToConsole to value 0\n",
      "Wheat Acres 183.333\n",
      "Corn Acres 66.6667\n",
      "Beet Acres 250\n",
      "Wheat Sold 350\n",
      "Corn Sold 0\n",
      "Beet Sold High Price 6000\n",
      "Beet Sold Low Price 0\n",
      "Wheat Purchased 0\n",
      "Corn Purchased 0\n",
      "Obj: -167667\n"
     ]
    }
   ],
   "source": [
    "yieldModifier = 1.2\n",
    "\n",
    "# Create new model\n",
    "highYield = gp.Model(\"High Yield\")\n",
    "highYield.Params.LogToConsole = 0\n",
    "\n",
    "# Create variables\n",
    "x1 = highYield.addVar(vtype=gp.GRB.CONTINUOUS, name=\"Wheat Acres\", lb=0)\n",
    "x2 = highYield.addVar(vtype=gp.GRB.CONTINUOUS, name=\"Corn Acres\", lb=0)\n",
    "x3 = highYield.addVar(vtype=gp.GRB.CONTINUOUS, name=\"Beet Acres\", lb=0)\n",
    "w1 = highYield.addVar(vtype=gp.GRB.CONTINUOUS, name=\"Wheat Sold\", lb=0)\n",
    "w2 = highYield.addVar(vtype=gp.GRB.CONTINUOUS, name=\"Corn Sold\", lb=0)\n",
    "w3 = highYield.addVar(vtype=gp.GRB.CONTINUOUS, name=\"Beet Sold High Price\", lb=0)\n",
    "w4 = highYield.addVar(vtype=gp.GRB.CONTINUOUS, name=\"Beet Sold Low Price\", lb=0)\n",
    "y1 = highYield.addVar(vtype=gp.GRB.CONTINUOUS, name=\"Wheat Purchased\", lb=0)\n",
    "y2 = highYield.addVar(vtype=gp.GRB.CONTINUOUS, name=\"Corn Purchased\", lb=0)\n",
    "\n",
    "# Constraints\n",
    "highYield.addConstr(x1 + x2 + x3 <= 500, \"Land Limit\")\n",
    "highYield.addConstr(yieldModifier * wheatYield * x1 + y1 >= 200 + w1, \"Wheat Yield Relationship\")\n",
    "highYield.addConstr(yieldModifier * cornYield * x2 + y2 >= 240 + w2, \"Corn Yield Relationship\")\n",
    "highYield.addConstr(yieldModifier * beetYield * x3 >= w3 + w4, \"Beet Yield Relationship\")\n",
    "highYield.addConstr(w3 <= 6000, \"Beet High Price Limit\")\n",
    "\n",
    "# Objective function\n",
    "highYield.setObjective(150*x1 + 230*x2 + 260*x3 + 238*y1 + 210*y2 - 170*w1 - 150*w2 - 36*w3 - 10*w4, GRB.MINIMIZE)\n",
    "\n",
    "# Optimize model\n",
    "highYield.optimize()\n",
    "\n",
    "# Print variable values\n",
    "for v in highYield.getVars():\n",
    "    print('%s %g' % (v.VarName, v.X))\n",
    "\n",
    "# Print objective value\n",
    "print('Obj: %g' % highYield.ObjVal)"
   ]
  },
  {
   "cell_type": "markdown",
   "id": "07b5fbd5",
   "metadata": {},
   "source": [
    "# Solve for Deterministic Model"
   ]
  },
  {
   "cell_type": "markdown",
   "id": "7f1363cd",
   "metadata": {},
   "source": [
    "Because the low and high yield models are the same distance (either 20% lower or higher) than the normal yield model, the average of the three with equal probabilities (33.3% each) gives a model with the exact same parameters as the normal yield model."
   ]
  },
  {
   "cell_type": "code",
   "execution_count": 6,
   "id": "7f6509b9",
   "metadata": {},
   "outputs": [
    {
     "name": "stdout",
     "output_type": "stream",
     "text": [
      "Set parameter LogToConsole to value 0\n",
      "Wheat Acres 120\n",
      "Corn Acres 80\n",
      "Beet Acres 300\n",
      "Wheat Sold 100\n",
      "Corn Sold 0\n",
      "Beet Sold High Price 6000\n",
      "Beet Sold Low Price 0\n",
      "Wheat Purchased 0\n",
      "Corn Purchased 0\n",
      "Obj: -118600\n"
     ]
    }
   ],
   "source": [
    "# Expected Yield\n",
    "yieldModifier = (1/3) * 0.8 + (1/3) * 1 + (1/3) * 1.2\n",
    "\n",
    "# Create new model\n",
    "deterministicModel = gp.Model(\"Deterministic Model\")\n",
    "deterministicModel.Params.LogToConsole = 0\n",
    "\n",
    "# Create variables\n",
    "x1 = deterministicModel.addVar(vtype=gp.GRB.CONTINUOUS, name=\"Wheat Acres\", lb=0)\n",
    "x2 = deterministicModel.addVar(vtype=gp.GRB.CONTINUOUS, name=\"Corn Acres\", lb=0)\n",
    "x3 = deterministicModel.addVar(vtype=gp.GRB.CONTINUOUS, name=\"Beet Acres\", lb=0)\n",
    "w1 = deterministicModel.addVar(vtype=gp.GRB.CONTINUOUS, name=\"Wheat Sold\", lb=0)\n",
    "w2 = deterministicModel.addVar(vtype=gp.GRB.CONTINUOUS, name=\"Corn Sold\", lb=0)\n",
    "w3 = deterministicModel.addVar(vtype=gp.GRB.CONTINUOUS, name=\"Beet Sold High Price\", lb=0)\n",
    "w4 = deterministicModel.addVar(vtype=gp.GRB.CONTINUOUS, name=\"Beet Sold Low Price\", lb=0)\n",
    "y1 = deterministicModel.addVar(vtype=gp.GRB.CONTINUOUS, name=\"Wheat Purchased\", lb=0)\n",
    "y2 = deterministicModel.addVar(vtype=gp.GRB.CONTINUOUS, name=\"Corn Purchased\", lb=0)\n",
    "\n",
    "# Constraints\n",
    "deterministicModel.addConstr(x1 + x2 + x3 <= 500, \"Land Limit\")\n",
    "deterministicModel.addConstr(yieldModifier * wheatYield * x1 + y1 >= 200 + w1, \"Wheat Yield Relationship\")\n",
    "deterministicModel.addConstr(yieldModifier * cornYield * x2 + y2 >= 240 + w2, \"Corn Yield Relationship\")\n",
    "deterministicModel.addConstr(yieldModifier * beetYield * x3 >= w3 + w4, \"Beet Yield Relationship\")\n",
    "deterministicModel.addConstr(w3 <= 6000, \"Beet High Price Limit\")\n",
    "\n",
    "# Objective function\n",
    "deterministicModel.setObjective(150*x1 + 230*x2 + 260*x3 + 238*y1 + 210*y2 - 170*w1 - 150*w2 - 36*w3 - 10*w4, GRB.MINIMIZE)\n",
    "\n",
    "# Optimize model\n",
    "deterministicModel.optimize()\n",
    "\n",
    "# Print variable values\n",
    "for v in deterministicModel.getVars():\n",
    "    print('%s %g' % (v.VarName, v.X))\n",
    "\n",
    "# Print objective value\n",
    "print('Obj: %g' % deterministicModel.ObjVal)"
   ]
  },
  {
   "cell_type": "markdown",
   "id": "dac5e4a1",
   "metadata": {},
   "source": [
    "# Solve for Stochastic Model"
   ]
  },
  {
   "cell_type": "code",
   "execution_count": 7,
   "id": "633b0d53",
   "metadata": {},
   "outputs": [
    {
     "name": "stdout",
     "output_type": "stream",
     "text": [
      "Set parameter LogToConsole to value 0\n",
      "Wheat Acres 170\n",
      "Corn Acres 80\n",
      "Beet Acres 250\n",
      "Wheat Sold[0] 140\n",
      "Wheat Sold[1] 225\n",
      "Wheat Sold[2] 310\n",
      "Corn Sold[0] 0\n",
      "Corn Sold[1] 0\n",
      "Corn Sold[2] 48\n",
      "Beet Sold High Price[0] 4000\n",
      "Beet Sold High Price[1] 5000\n",
      "Beet Sold High Price[2] 6000\n",
      "Beet Sold Low Price[0] 0\n",
      "Beet Sold Low Price[1] 0\n",
      "Beet Sold Low Price[2] 0\n",
      "Wheat Purchased[0] 0\n",
      "Wheat Purchased[1] 0\n",
      "Wheat Purchased[2] 0\n",
      "Corn Purchased[0] 48\n",
      "Corn Purchased[1] 0\n",
      "Corn Purchased[2] 0\n",
      "Obj: -108390\n"
     ]
    }
   ],
   "source": [
    "## First Stage Constants\n",
    "firstObjectiveCoefficients = np.array([150,230,260]) # Planting costs for first stage\n",
    "firstObjectiveConstraints = np.array([500]) # Land available\n",
    "\n",
    "## Second Stage Constants\n",
    "secondObjectiveCoefficients = np.array([-170,-150,-36,-10,238,210]) # Selling prices and purchase prices in second stage\n",
    "K = 3 # Number of scenarios\n",
    "yieldModifiers = np.array([0.8,1.0,1.2])\n",
    "p = np.array([1.0/K]*K) # Probability of a scenario happening\n",
    "\n",
    "# Create model\n",
    "stochasticModel = gp.Model(\"Stochastic Model\")\n",
    "stochasticModel.ModelSense = GRB.MINIMIZE\n",
    "stochasticModel.Params.LogToConsole = 0\n",
    "\n",
    "# VARIABLES \n",
    "## First Stage Decision variable\n",
    "x1 = stochasticModel.addVar(vtype=gp.GRB.CONTINUOUS, name=\"Wheat Acres\", lb=0)\n",
    "x2 = stochasticModel.addVar(vtype=gp.GRB.CONTINUOUS, name=\"Corn Acres\", lb=0)\n",
    "x3 = stochasticModel.addVar(vtype=gp.GRB.CONTINUOUS, name=\"Beet Acres\", lb=0)\n",
    "\n",
    "## 2nd stage decision for each potential scenario\n",
    "w1 = stochasticModel.addMVar((K,),vtype=gp.GRB.CONTINUOUS, name=\"Wheat Sold\", lb=0)\n",
    "w2 = stochasticModel.addMVar((K,),vtype=gp.GRB.CONTINUOUS, name=\"Corn Sold\", lb=0)\n",
    "w3 = stochasticModel.addMVar((K,),vtype=gp.GRB.CONTINUOUS, name=\"Beet Sold High Price\", lb=0)\n",
    "w4 = stochasticModel.addMVar((K,),vtype=gp.GRB.CONTINUOUS, name=\"Beet Sold Low Price\", lb=0)\n",
    "y1 = stochasticModel.addMVar((K,),vtype=gp.GRB.CONTINUOUS, name=\"Wheat Purchased\", lb=0)\n",
    "y2 = stochasticModel.addMVar((K,),vtype=gp.GRB.CONTINUOUS, name=\"Corn Purchased\", lb=0)\n",
    "\n",
    "# OBJECTIVE \n",
    "stochasticModel.setObjective(\n",
    "    firstObjectiveCoefficients @ np.array([x1, x2, x3]) +\n",
    "    gp.quicksum(secondObjectiveCoefficients @ np.array([w1[k], w2[k], w3[k], w4[k], y1[k], y2[k]]) * p[k]\n",
    "                for k in range(K))\n",
    ")\n",
    "\n",
    "# CONSTRAINTS \n",
    "## Acre limit\n",
    "stochasticModel.addConstr(x1 + x2 + x3 <= 500)\n",
    "\n",
    "## Selling crop rules\n",
    "stochasticModel.addConstrs(yieldModifiers[k] * wheatYield * x1 + y1[k] >= 200 + w1[k] for k in range(K))\n",
    "stochasticModel.addConstrs(yieldModifiers[k] * cornYield * x2 + y2[k] >= 240 + w2[k] for k in range(K))\n",
    "stochasticModel.addConstrs(yieldModifiers[k] * beetYield * x3 >= w3[k] + w4[k] for k in range(K))\n",
    "stochasticModel.addConstrs(w3[k] <= 6000 for k in range(K))\n",
    "\n",
    "# SOLVING\n",
    "stochasticModel.optimize()\n",
    "\n",
    "# Print variable values\n",
    "for v in stochasticModel.getVars():\n",
    "    print('%s %g' % (v.VarName, v.X))\n",
    "\n",
    "# Print objective value\n",
    "print('Obj: %g' % stochasticModel.ObjVal)"
   ]
  },
  {
   "cell_type": "markdown",
   "id": "e42b91f7",
   "metadata": {},
   "source": [
    "# Value of Stochastic Solution (VSS)"
   ]
  },
  {
   "cell_type": "code",
   "execution_count": 8,
   "id": "d96f06f0",
   "metadata": {},
   "outputs": [
    {
     "name": "stdout",
     "output_type": "stream",
     "text": [
      "VSS: 1150\n"
     ]
    }
   ],
   "source": [
    "# Find objective using deterministic model in all scenarios\n",
    "lowYieldCopy = lowYield.copy()\n",
    "normalYieldCopy = normalYield.copy()\n",
    "highYieldCopy = highYield.copy()\n",
    "\n",
    "for model in (lowYieldCopy, normalYieldCopy, highYieldCopy):\n",
    "    model.getVarByName(\"Wheat Acres\").setAttr(\"lb\", deterministicModel.getVarByName(\"Wheat Acres\").X)\n",
    "    model.getVarByName(\"Corn Acres\").setAttr(\"lb\", deterministicModel.getVarByName(\"Corn Acres\").X)\n",
    "    model.getVarByName(\"Beet Acres\").setAttr(\"lb\", deterministicModel.getVarByName(\"Beet Acres\").X)\n",
    "    model.getVarByName(\"Wheat Acres\").setAttr(\"ub\", deterministicModel.getVarByName(\"Wheat Acres\").X)\n",
    "    model.getVarByName(\"Corn Acres\").setAttr(\"ub\", deterministicModel.getVarByName(\"Corn Acres\").X)\n",
    "    model.getVarByName(\"Beet Acres\").setAttr(\"ub\", deterministicModel.getVarByName(\"Beet Acres\").X)\n",
    "    model.optimize()\n",
    "\n",
    "# Calculate VSS\n",
    "VSS =  np.mean([lowYieldCopy.ObjVal, normalYieldCopy.ObjVal, highYieldCopy.ObjVal]) - stochasticModel.ObjVal\n",
    "print('VSS: %g' % VSS)"
   ]
  },
  {
   "cell_type": "markdown",
   "id": "4e26da30",
   "metadata": {},
   "source": [
    "# Expected Value of Perfect Information (EVPI)"
   ]
  },
  {
   "cell_type": "code",
   "execution_count": 9,
   "id": "da0f2883",
   "metadata": {},
   "outputs": [
    {
     "name": "stdout",
     "output_type": "stream",
     "text": [
      "EVPI: 7015.56\n"
     ]
    }
   ],
   "source": [
    "EVPI = stochasticModel.ObjVal - (1/3 * lowYield.ObjVal + 1/3 * normalYield.ObjVal + 1/3 * highYield.ObjVal)\n",
    "print('EVPI: %g' % EVPI)"
   ]
  }
 ],
 "metadata": {
  "kernelspec": {
   "display_name": ".venv",
   "language": "python",
   "name": "python3"
  },
  "language_info": {
   "codemirror_mode": {
    "name": "ipython",
    "version": 3
   },
   "file_extension": ".py",
   "mimetype": "text/x-python",
   "name": "python",
   "nbconvert_exporter": "python",
   "pygments_lexer": "ipython3",
   "version": "3.13.2"
  }
 },
 "nbformat": 4,
 "nbformat_minor": 5
}
